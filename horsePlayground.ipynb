{
 "metadata": {
  "language_info": {
   "codemirror_mode": {
    "name": "ipython",
    "version": 3
   },
   "file_extension": ".py",
   "mimetype": "text/x-python",
   "name": "python",
   "nbconvert_exporter": "python",
   "pygments_lexer": "ipython3",
   "version": 3
  },
  "orig_nbformat": 2,
  "kernelspec": {
   "name": "python_defaultSpec_1597326765648",
   "display_name": "Python 3.7.6 64-bit ('base': conda)"
  }
 },
 "nbformat": 4,
 "nbformat_minor": 2,
 "cells": [
  {
   "cell_type": "code",
   "execution_count": null,
   "metadata": {},
   "outputs": [],
   "source": [
    "import re\n",
    "import pandas as pd\n",
    "import os"
   ]
  },
  {
   "cell_type": "code",
   "execution_count": null,
   "metadata": {},
   "outputs": [],
   "source": [
    "def bulkTxtToDF(txtDir):\n",
    "    if txtDir[-1] != '/':\n",
    "        txtDir += '/'\n",
    "    files = os.listdir(txtDir)\n",
    "\n",
    "    for file in files:\n",
    "        address = txtDir + file\n",
    "        with open(address) as txtChart:\n",
    "            fullChart = txtChart.readlines()\n",
    "            fullDayDF = parseFullDay(fullChart)\n",
    "\n",
    "    ## append full day df to running df and return"
   ]
  },
  {
   "cell_type": "code",
   "execution_count": null,
   "metadata": {},
   "outputs": [],
   "source": [
    "def parseFullDay(fullChart):\n",
    "    newRaceInd = [0]\n",
    "    newRaceTest = re.search('Copyright 2020 Equibase Company LLC. All Rights Reserved.', line)\n",
    "    for i in range(len(fullChart)):\n",
    "        if re.search(newRaceTest, fullChart[i]) is not None:\n",
    "            newRaceInd.append(i)\n",
    "\n",
    "    for i in range(len(newRaceInd) - 1):\n",
    "        raceDF = parseRace(fullChart[newRaceInd[i]:newRaceInd[i+1]])\n",
    "\n",
    "    ## append raceDF to running df and return"
   ]
  },
  {
   "cell_type": "code",
   "execution_count": null,
   "metadata": {},
   "outputs": [],
   "source": [
    "def parseRace(raceChart):\n",
    "\n",
    "    for line in raceChart:\n",
    "        if cnt == 0:\n",
    "            parseRace()\n",
    "            trackName, month, day, year, raceNum = parseFirstLine(line)\n",
    "        elif cnt == 1:\n",
    "            breed = parseSecondLine(line)\n",
    "            if breed == 'QuarterHorse':\n",
    "                break\n",
    "        elif cnt == 4:\n",
    "            distance, surface = parseFifthLine(line)\n",
    "\n",
    "    #make df row, append to df, and return"
   ]
  },
  {
   "cell_type": "code",
   "execution_count": null,
   "metadata": {},
   "outputs": [],
   "source": [
    "def parseFirstLine(line):\n",
    "    fullSearch = re.search(r'([^-]*)\\-([^-]*)\\-([^-]*)$', line)\n",
    "    trackNameRaw = fullSearch.group(1)\n",
    "    dateRaw = fullSearch.group(2)\n",
    "    raceNumRaw = fullSearch.group(3)\n",
    "\n",
    "    #track name -> abbreviated name\n",
    "    trackNameFull = re.sub('[^A-Za-z]', '', trackNameRaw)\n",
    "    trackName = trackLongToShort[trackNameFull]\n",
    "\n",
    "    #date\n",
    "    dateSearch = re.search(r'([A-Za-z]*)(\\d),(\\d\\d\\d\\d)', dateRaw)\n",
    "    monthRaw = dateSearch.group(1)\n",
    "    month = monthNameToNumber[monthRaw]\n",
    "    day = dateSearch.group(2)\n",
    "    year = dateSearch.group(3)\n",
    "\n",
    "    #race number\n",
    "    raceNum = re.search('\\d?\\d', raceNumRaw).group(0)\n",
    "\n",
    "    out = [trackName, int(month), int(day), int(year), int(raceNum)]\n",
    "\n",
    "    return out"
   ]
  },
  {
   "cell_type": "code",
   "execution_count": null,
   "metadata": {},
   "outputs": [],
   "source": [
    "def parseSecondLine(line):\n",
    "    breedRaw = re.search(r'-(.*)$', line).group(1)\n",
    "    breed = re.sub('[^A-Za-z]', '', breedRaw)\n",
    "    return breed"
   ]
  },
  {
   "cell_type": "code",
   "execution_count": null,
   "metadata": {},
   "outputs": [],
   "source": [
    "def parseFifthLine(line):\n",
    "    fullSearch = re.match(r'([ A-Za-z]+)(?=Track)', line).group(0)\n",
    "    fullSearch = re.sub(r'[^A-Za-z]', '', fullSearch)\n",
    "    specSearch = re.match(r'(([A-Z][a-z]*)*)(?=OnThe)OnThe([A-Z][a-z]*)$', fullSearch)\n",
    "    distanceRaw, surface = [specSearch.group(1), specSearch.group(3)]\n",
    "\n",
    "    out = [distanceRaw, surface]\n",
    "\n",
    "    return out"
   ]
  },
  {
   "cell_type": "code",
   "execution_count": 153,
   "metadata": {},
   "outputs": [],
   "source": [
    "#line = 'LOSALAMIT?OS-January4,2019-Race1' #first\n",
    "#line = 'MAIDENCLAIMING-Thoroughbred' #second\n",
    "#line = 'Four And One Half Furlongs On The Dirt Track Record: (Valiant Pete - 49.20 - August 11, 1990)' #fifth\n",
    "#line = 'Copyright 2020 Equibase Company LLC. All Rights Reserved.' #race flag\n",
    "line = 'Weather: Clear Track: Fast'"
   ]
  },
  {
   "cell_type": "code",
   "execution_count": null,
   "metadata": {},
   "outputs": [],
   "source": [
    "trackLongToShort = {}\n",
    "trackShortToLong = {}\n",
    "tracksDF = pd.read_csv('tracks_v02.csv', delimiter=',', header=None)\n",
    "for i in range(tracksDF.shape[0]):\n",
    "    trackLongToShort[tracksDF.iloc[i,1]] = tracksDF.iloc[i,0]\n",
    "    trackShortToLong[tracksDF.iloc[i,0]] = tracksDF.iloc[i,1]"
   ]
  },
  {
   "cell_type": "code",
   "execution_count": null,
   "metadata": {},
   "outputs": [],
   "source": [
    "monthNameToNumber = {\n",
    "    'January': 1,\n",
    "    'February': 2,\n",
    "    'March': 3,\n",
    "    'April': 4,\n",
    "    'May': 5,\n",
    "    'June': 6,\n",
    "    'July': 7,\n",
    "    'August': 8,\n",
    "    'September': 9,\n",
    "    'October': 10,\n",
    "    'November': 11,\n",
    "    'December': 12\n",
    "}"
   ]
  }
 ]
}