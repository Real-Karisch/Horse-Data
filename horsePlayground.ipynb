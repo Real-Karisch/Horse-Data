{
 "metadata": {
  "language_info": {
   "codemirror_mode": {
    "name": "ipython",
    "version": 3
   },
   "file_extension": ".py",
   "mimetype": "text/x-python",
   "name": "python",
   "nbconvert_exporter": "python",
   "pygments_lexer": "ipython3",
   "version": 3
  },
  "orig_nbformat": 2,
  "kernelspec": {
   "name": "python_defaultSpec_1597001178647",
   "display_name": "Python 3.7.6 64-bit ('base': conda)"
  }
 },
 "nbformat": 4,
 "nbformat_minor": 2,
 "cells": [
  {
   "cell_type": "code",
   "execution_count": 107,
   "metadata": {},
   "outputs": [],
   "source": [
    "from bs4 import BeautifulSoup\n",
    "import re\n",
    "import os\n",
    "import pandas as pd"
   ]
  },
  {
   "cell_type": "code",
   "execution_count": 191,
   "metadata": {},
   "outputs": [],
   "source": [
    "saveRaceUrlsFromFiles()"
   ]
  },
  {
   "cell_type": "code",
   "execution_count": 115,
   "metadata": {
    "tags": []
   },
   "outputs": [],
   "source": [
    "def getLinks(html, patternStr):\n",
    "    with open(html) as file:\n",
    "        raw = file.read()\n",
    "    soup = BeautifulSoup(raw)\n",
    "\n",
    "    link = []\n",
    "    pattern = re.compile(patternStr)\n",
    "    for i in soup.find_all('a'):\n",
    "        for key in i.attrs.keys():\n",
    "            if key == 'href':\n",
    "                jack = i.get('href')\n",
    "                if pattern.match(jack) is not None:\n",
    "                    link.append(jack)\n",
    "    return link"
   ]
  },
  {
   "cell_type": "code",
   "execution_count": 190,
   "metadata": {},
   "outputs": [],
   "source": [
    "def generateRaceUrlsFromLinks(dayList):\n",
    "    urls = []\n",
    "    for raw in dayList:\n",
    "        dateIndex = re.search('[0-9][0-9]/[0-9][0-9]/[0-9][0-9][0-9][0-9]', raw).span()\n",
    "        trackIndex = list(re.search('tid=...', raw).span())\n",
    "        trackIndex[0] += 4\n",
    "        if raw[trackIndex[1] - 1] == \"&\":\n",
    "            trackIndex[1] -= 1\n",
    "        countryIndex = list(re.search('ctry=...', raw).span())\n",
    "        countryIndex[0] += 5\n",
    "        if raw[countryIndex[1] - 1] == \" \":\n",
    "            countryIndex[1] -= 1\n",
    "        \n",
    "\n",
    "        first = 'https://www.equibase.com/premium/eqbPDFChartPlus.cfm?RACE=A&BorP=P&TID='\n",
    "        second = '&CTRY='\n",
    "        third = '&DT='\n",
    "        fourth = '&DAY=D&STYLE=EQB'\n",
    "        urls.append(first + raw[trackIndex[0]:trackIndex[1]] + second + raw[countryIndex[0]:countryIndex[1]] + third + raw[dateIndex[0]:dateIndex[1]] + fourth)\n",
    "    return urls"
   ]
  },
  {
   "cell_type": "code",
   "execution_count": 188,
   "metadata": {},
   "outputs": [],
   "source": [
    "def saveRaceUrlsFromFiles():\n",
    "    files = os.listdir('./yearhtml')\n",
    "    urls = []\n",
    "    for file in files:\n",
    "        dayLinks = getLinks('./yearhtml/'+file, 'eqbPDFChartPlusIndex.cfm\\?tid=')\n",
    "        urls += generateRaceUrlsFromLinks(dayLinks)\n",
    "    \n",
    "    with open('raceUrls.csv', 'w') as file:\n",
    "        for item in urls:\n",
    "            file.write('%s\\n' % item)"
   ]
  }
 ]
}