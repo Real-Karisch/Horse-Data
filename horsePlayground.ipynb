{
 "metadata": {
  "language_info": {
   "codemirror_mode": {
    "name": "ipython",
    "version": 3
   },
   "file_extension": ".py",
   "mimetype": "text/x-python",
   "name": "python",
   "nbconvert_exporter": "python",
   "pygments_lexer": "ipython3",
   "version": "3.7.6-final"
  },
  "orig_nbformat": 2,
  "kernelspec": {
   "name": "python_defaultSpec_1597450020622",
   "display_name": "Python 3.7.6 64-bit ('base': conda)"
  }
 },
 "nbformat": 4,
 "nbformat_minor": 2,
 "cells": [
  {
   "cell_type": "code",
   "execution_count": 3,
   "metadata": {},
   "outputs": [],
   "source": [
    "import re\n",
    "import pandas as pd\n",
    "import os"
   ]
  },
  {
   "cell_type": "code",
   "execution_count": null,
   "metadata": {},
   "outputs": [],
   "source": [
    "def bulkTxtToDF(txtDir):\n",
    "    if txtDir[-1] != '/':\n",
    "        txtDir += '/'\n",
    "    files = os.listdir(txtDir)\n",
    "\n",
    "    for file in files:\n",
    "        address = txtDir + file\n",
    "        with open(address) as txtChart:\n",
    "            fullChart = txtChart.readlines()\n",
    "            fullDayDF = parseFullDay(fullChart)\n",
    "\n",
    "    ## append full day df to running df and return"
   ]
  },
  {
   "cell_type": "code",
   "execution_count": null,
   "metadata": {},
   "outputs": [],
   "source": [
    "def parseFullDay(fullChart):\n",
    "    newRaceInd = [0]\n",
    "    newRaceTest = re.search('Copyright 2020 Equibase Company LLC. All Rights Reserved.', line)\n",
    "    for i in range(len(fullChart)):\n",
    "        if re.search(newRaceTest, fullChart[i]) is not None:\n",
    "            newRaceInd.append(i)\n",
    "\n",
    "    for i in range(len(newRaceInd) - 1):\n",
    "        raceDF = parseRace(fullChart[newRaceInd[i]:newRaceInd[i+1]])\n",
    "\n",
    "    ## append raceDF to running df and return"
   ]
  },
  {
   "cell_type": "code",
   "execution_count": 18,
   "metadata": {},
   "outputs": [],
   "source": [
    "with open('belmont.txt') as file:\n",
    "    cnt = 0\n",
    "    for line in file.readlines():\n",
    "        if re.search('Off *at:', line) is not None:\n",
    "            genInd = cnt + 1\n",
    "        elif re.search('Last *Raced *Pgm', line) is not None:\n",
    "            horseInd = [cnt]\n",
    "        elif re.search('Fractional *Times:', line):\n",
    "            horseInd.append(cnt)\n",
    "            endInd = cnt\n",
    "        cnt += 1"
   ]
  },
  {
   "cell_type": "code",
   "execution_count": 20,
   "metadata": {
    "tags": []
   },
   "outputs": [
    {
     "output_type": "stream",
     "name": "stdout",
     "text": "['   BELMO<NTPARK-June8,2019-Race11\\n', '   STAKESBelmontS.Grade1-Thoroughbred\\n', '   FORTHREEYEAROLDS.Bysubscriptionof$600each,toaccompanythenomination,ifmadeonorbeforeJanuary26,2019,or\\n', '   $6,000, if made on or before April 1, 2019. At any time prior to the closing time of entries, horses may be nominated to The\\n', '   BelmontStakes upon payment of a supplementary fee of $50,000 to the New York Racing Association, Inc. $15,000 to pass the\\n', '   entry box and $15,000 additional to start. All entrants will be required to pay entry and starting fees; but no fees, supplemental or\\n', '   otherwise shall be added to the purse. The purse to be divided $800,000 to the winner, $280,000 to second, $150,000 to third,\\n', '   $100,000 to fourth, $60,000 to fifth, $45,000 to sixth, $35,000 to seventh and $30,000 to eighth. Colts and Geldings, 126 lbs.; Fillies,\\n', '   121lbs. The winning owner will be presented with the August Belmont Memorial Cup to be retained for one year as well as a trophy\\n', '   for permanent possession and trophies to the winning trainer and jockey.\\n', '   OneAndOneHalfMilesOnTheDirt TrackRecord:(Secretariat-2:24.00 - June 9, 1973)\\n', '   Purse: $1,500,000 Guaranteed\\n', '   Available Money: $1,500,000\\n', '   Value of Race:$1,500,000 1st $800,000, 2nd $280,000, 3rd $150,000, 4th $100,000, 5th $60,000, 6th $45,000, 7th $35,000, 8th     Video Race Replay\\n', '                  $30,000\\n', '   Weather: Clear Track: Fast\\n', '   Off at: 6:38 Start: Good for all\\n']\n==============\n['   Last Raced       Pgm HorseName(Jockey)                        WgtM/E PP 1/4        1/2       1m       11/4     Str      Fin     Odds Comments\\n', '           4    2                                                                1      1        1        1        1        1\\n', '   11May19 BEL       7   Sir Winston (Rosario, Joel)             126 Lb      7 8      8         7        3        2        1       10.20 ins,traffic1/4,4w upr\\n', '          12   3                                                                 1/2    11/2     1        1/2      1        3/4\\n', '   4May19 CD        10   Tacitus (Ortiz, Jose)                   126 L      10 7      7         8        5        4        2        1.95* 3w1st,5w2nd,bump upr\\n', '           9    1                                                                1      1/2      1/2      Head     Head     1\\n', '   12May19 MTH       1   Joevia (Lezcano, Jose)                  126 L       1 1      1         1        1        1        3       21.60 ins,ask 1/4,wknd\\n', '          12   14                                                                2      11/2     11/2     1        1/2      Head\\n', '   4May19 CD         4   Tax(Ortiz, Jr., Irad)                   126 L       4 2      2         2        2        3        4       11.70 prompt 2w,bid 1/4,flat\\n', '          12   6                                                                                 1        1        2        Neck\\n', '   4May19 CD         3   Master Fencer (JPN) (Leparoux, Julien)  126 h       3 10     10        9        9        9        5       13.30 ins,3w 3/8,6w lane\\n', '          12   18                                                                1/2    1        1        1/2      1/2      Nose\\n', '   4May19 CD         6   Spinoff (Castellano, Javier)            126 L       6 3      3         3        6        6        6       10.40 3wbothturns, tired\\n', '           13   2                                                                1      Head     Head     11/2     Head     13/4\\n', '   18May19 PIM       2   Everfast (Saez, Luis)                   126 L       2 4      5         4        7        5        7       16.50 ins to 1/2,wedge 2w 2d\\n', '           4    3                                                                1      1/2      Head     1        Head     21/4\\n', '   11May19 BEL       8   Intrepid Heart (Velazquez, John)        126 Lb      8 6      6         6        8        8        8        6.90 brush brk,2-3w to 1/4\\n', '           13   1                                                                1      1        1/2      1/2      2        43/4\\n', '   18May19 PIM       9   WarofWill (Gaffalione, Tyler)           126 L       9 5      4         5        4        7        9        3.65 brsh st,4w,bumped upr\\n', '           13   8                                                                1/2    1/2\\n', '   18May19 PIM       5   Bourbon War (Smith, Mike)               126 L       5 9      9         10       10       10       10      10.00 2wpursuit, no factor\\n']\n================\n['   Fractional Times:23.92    48.79   1:13.54 1:38.27 2:02.72Final Time:2:28.30\\n', '   Split Times:           (24:87) (24:75) (24:73)   (24:45) (25:58)\\n', '   Run-Up:78feet\\n', '   Winner: Sir Winston, Chestnut Colt, by Awesome Again out of La Gran Bailadora, by Afleet Alex. Foaled Apr 08, 2016 in Kentucky.\\n', '   Breeder: Tracy Farmer.\\n', '   WinningOwner:TracyFarmer\\n', '   Total WPS Pool: $17,352,418\\n', '   Pgm Horse                         Win    Place    Show     WagerType            WinningNumbers              Payoff          Pool\\n', '    7    Sir Winston                22.40     8.80     6.10   $1.00 Exacta         7-10                          48.00     9,914,302\\n', '   10    Tacitus                              3.90     3.20   $0.50 Trifecta       7-10-1                       622.00    10,567,921\\n', '    1    Joevia                                        8.70   $0.10 Superfecta     7-10-1-4                   1,042.80     6,396,259\\n', '                                                              $1.00 Daily Double   (BEL GC-BEL) 3-7              74.75       455,648\\n', '                                                              $1.00 Daily Double   8-7                           25.75       840,466\\n', '                                                              $1.00 Pick 3         3-8-7 (3 correct)            147.50     1,336,365\\n', '                                                              $0.50 Pick 4         8-3-8/9-7 (4 correct)      2,118.00     3,603,840\\n', '                                                              $0.50 Pick 5         7-8-3-8/9-7 (5 correct)   10,202.75       480,130\\n', '                                                              $0.20 Pick 6         (FESTIVALP6)               9,505.90       656,139\\n', '                                                                                   3-3-8-3-8-7 (6 correct)\\n', '                                                              $0.20 Pick 6         (FESTIVALP6)                  63.40             0\\n', '                                                                                   3-3-8-3-8-7 (5 correct)\\n', '                                                              $2.00 Pick 6         1/4/8-7-8-3-8/9-7 (5         180.00             0\\n', '                                                                                   correct)\\n', '                                                              $2.00 Pick 6         1/4/8-7-8-3-8/9-7 (6      35,807.00     1,634,038\\n', '                                                                                   correct)\\n', '                                                         Past Performance Running Line Preview\\n', '                                       Pgm HorseName             1/4     1/2       1m       11/4     Str      Fin\\n', '                                                                  7        6        33/4     1        Head     1\\n', '                                        7   Sir Winston          8       8         7        3        2        1\\n', '                                                                  61/2     41/2     43/4     21/2     11/2     1\\n', '                                       10   Tacitus              7       7         8        5        4        2\\n', '                                                                  1        1/2      1/2      Head     Head     13/4\\n', '                                        1   Joevia               1       1         1        1        1        3\\n', '                                                                  1        1/2      1/2      Head     1        23/4\\n', '                                        4   Tax                  2       2         2        2        3        4\\n', '                                                                   81/2     71/2    53/4     6        51/4     23/4\\n', '                                        3   Master Fencer (JPN)  10      10        9        9        9        5\\n', '                                                                  3        2        2        3        23/4     3\\n', '                                        6   Spinoff              3       3         3        6        6        6\\n', '                                                                  31/2     4        3        31/2     21/2     31/4\\n', '                                        2   Everfast             4       5         4        7        5        7\\n', '                                                                  51/2     4        31/2     5        51/4     5\\n', '                                        8   Intrepid Heart       6       6         6        8        8        8\\n', '                                                                  41/2     3        3        2        31/4     71/4\\n', '                                        9   WarofWill            5       4         5        4        7        9\\n', '                                                                  8        7         63/4     7        71/4     12\\n', '                                        5   Bourbon War          9       9         10       10       10       10\\n', '   Trainers: 7 - Casse, Mark; 10 - Mott, William; 1 - Sacco, Gregory; 4 - Gargan, Danny; 3 - Tsunoda, Koichi; 6 - Pletcher, Todd; 2 - Romans, Dale; 8 -\\n', '              Pletcher, Todd; 9 - Casse, Mark; 5 - Hennig, Mark\\n', '   Owners: 7-TracyFarmer;10-JuddmonteFarms,Inc.;1-Fazio,Michael and Fazio, Jeff; 4 - R. A. Hill Stable, Reeves Thoroughbred Racing, Lynch,\\n', '              HughandCormsRacingStable;3-KatsumiYoshizawa;6-WertheimerandFrere;2-CalumetFarm;8-Low,LawanaL.andRobertE.;9-Gary\\n', '              Barber; 5 - Bourbon Lane Stable (J. Hill, M. McMahon) and Lake Star Stable;\\n', '   Footnotes\\n', '   SIR WINSTONmadeitover to the rail before arriving at the end of the homestretch, tracked the front runners patiently handled, gained sufficient room with\\n', '   which to advance along the inside route after EVERFAST vacated it at the half mile pole, snaked his way into a good striking position, was forced to wait\\n', '   behind some traffic nearing the quarter pole, accelerated when put to some encouragement, out-racing a pair of opponents for position spinning into the\\n', '  lane, straightened away approximately four wide and took off after the ones to catch, ground his way to the front end, wresting away the advantage just\\n', '  inside the furlong marker and edged away. TACITUS brushed with WAR OF WIILL springing from the starting gate, settled into stride and into midpack,\\n', '  raced three wide around the clubhouse bend, was rated proceeding along the backstretch, tipped to the outside coming up to its conclusion, wound up on\\n', '  the overland route making his way on the far turn, got called upon leaving the five-sixteenths marker, bumped with WAR OF WILL as they spun into stretch\\n', '  directly abreast of each other, shifted closer to the rail when rein-ridden traversing through the furlong grounds, was taken hold and maneuvered back into\\n', '  path five at the eighth pole, gained ground in a steadfast manner to garner the place. JOEVIA broke in line with TAX, established the top by the crown of the\\n', '  opening bend, showed the way with the aforementioned rival in attendance to the outside, was put to the test by that opponent nearing the quarter pole and\\n', '  was turned loose, offered resistance before yielding to the winner in midlane, weakened into the show slot. TAX hand urged from the gate, was taken hold\\n', '  once JOEVIA assumed control, prompted the pace two to three wide, bid for the top as the field stepped into the stretch, wandered out four wide during the\\n', \"  ensuing furlong, wasn't up to the task at hand and weakened. MASTER FENCER (JPN) rode the rail until the half mile pole, responded when let out a\\n\", '  notch, working his way into path three by midpoint, paused at the five-sixteenths pole then proceeded to shift six wide from that station to the\\n', '  three-sixteenths pole, rallied mildly mainly improving position. SPINOFF strung out three wide on both turns, lacked the necessary stretch response.\\n', '  EVERFAST loosely pocketed to the half mile pole, was wedged in between rivals two wide on the second bend, swung into the lane, failed to make the\\n', '  necessary headway and retreated in the last eighth. INTREPID HEART brushed at the start after losing his footing, raced two to three wide to the quarter\\n', '  pole, stepped into the stretch under a ride and had no rally. WAR OF WILL made light contact with TACITUS after losing his footing as the field was sent off\\n', '  and running, was in path four making his way on the first turn, was still in same path in pursuit of the front runners, the widest of all, and without benefit of\\n', '  cover, departed the backstretch once again stationed in the four path, got cued up approaching the quarter pole, turned into the lane in tight quarters with\\n', '  the second place finisher, resulting in a solid bump between them, kept up its pursuit for a little while longer before faltering. BOURBON WAR unhurried\\n', '  during the initial stages sitting at the back of the pack in the two path, failed to reach a contending position.\\n', '     Denotes a Keeneland Sales Graduate\\n', '  Copyright 2020 Equibase Company LLC. All Rights Reserved.\\n']\n"
    }
   ],
   "source": [
    "print(chart[:genInd])\n",
    "print('==============')\n",
    "print(chart[horseInd[0]:horseInd[1]])\n",
    "print('================')\n",
    "print(chart[endInd:])"
   ]
  },
  {
   "cell_type": "code",
   "execution_count": null,
   "metadata": {},
   "outputs": [],
   "source": [
    "def parseRace(raceChart):\n",
    "\n",
    "    genInd = raceChart[:10]\n",
    "\n",
    "    genItems = parseGenInfo()\n",
    "\n",
    "    for line in raceChart:\n",
    "        if cnt == 0:\n",
    "            parseRace()\n",
    "            trackName, month, day, year, raceNum = parseLine1(line)\n",
    "        elif cnt == 1:\n",
    "            breed = parseLine2(line)\n",
    "            if breed == 'QuarterHorse':\n",
    "                break\n",
    "        elif cnt == 4:\n",
    "            distance, surface = parseLine5(line)\n",
    "        elif cnt == 8:\n",
    "            weather, conditions = parseLine9(line)\n",
    "        elif cnt == 9:\n",
    "            startTime, startNote = parseLine10(line)\n",
    "        elif cnt == 10:\n",
    "            segment1, segment2, segment3, segment4, segment5 = parseLine11(line)\n",
    "\n",
    "                if segment3 == '':\n",
    "                    segments = 2\n",
    "                elif segment4 == '':\n",
    "                    segments = 3\n",
    "                elif segment5 == '':\n",
    "                    segments = 4\n",
    "                else:\n",
    "                    segments = 5\n",
    "\n",
    "        newHorse = True\n",
    "        fieldSize = 0\n",
    "        while newHorse:\n",
    "            horseParse1(line)\n",
    "\n",
    "    #make df row, append to df, and return"
   ]
  },
  {
   "cell_type": "code",
   "execution_count": null,
   "metadata": {},
   "outputs": [],
   "source": [
    "def parseLine11(line):\n",
    "    fullSearch = re.search(r'PP *([A-Za-z0-9/]+) *([A-Za-z0-9/]*) *([A-Za-z0-9/]*) *([A-Za-z0-9/]*) *([A-Za-z0-9/]*) *Fin', line)\n",
    "    segment1 = fullSearch.group(1)\n",
    "    segment2 = fullSearch.group(2)\n",
    "    segment3 = fullSearch.group(3)\n",
    "    segment4 = fullSearch.group(4)\n",
    "    segment5 = fullSearch.group(5)\n",
    "\n",
    "    return [segment1, segment2, segment3, segment4, segment5]"
   ]
  },
  {
   "cell_type": "code",
   "execution_count": 71,
   "metadata": {},
   "outputs": [],
   "source": [
    "fullSearch = re.search(r'PP *([A-Za-z0-9/]+) *([A-Za-z0-9/]*) *([A-Za-z0-9/]*) *([A-Za-z0-9/]*) *([A-Za-z0-9/]*) *Fin', line)"
   ]
  },
  {
   "cell_type": "code",
   "execution_count": 72,
   "metadata": {},
   "outputs": [],
   "source": [
    "segment1 = fullSearch.group(1)\n",
    "segment2 = fullSearch.group(2)\n",
    "segment3 = fullSearch.group(3)\n",
    "segment4 = fullSearch.group(4)\n",
    "segment5 = fullSearch.group(5)"
   ]
  },
  {
   "cell_type": "code",
   "execution_count": 73,
   "metadata": {},
   "outputs": [],
   "source": [
    "if segment3 == '':\n",
    "    segments = 2\n",
    "elif segment4 == '':\n",
    "    segments = 3\n",
    "elif segment5 == '':\n",
    "    segments = 4\n",
    "else:\n",
    "    segments = 5\n"
   ]
  },
  {
   "cell_type": "code",
   "execution_count": 76,
   "metadata": {},
   "outputs": [
    {
     "output_type": "execute_result",
     "data": {
      "text/plain": "'1/4'"
     },
     "metadata": {},
     "execution_count": 76
    }
   ],
   "source": [
    "segment2"
   ]
  },
  {
   "cell_type": "code",
   "execution_count": 32,
   "metadata": {},
   "outputs": [],
   "source": [
    "def parseLine1(line):\n",
    "    fullSearch = re.search(r'([^-]*)\\-([^-]*)\\-([^-]*)$', line)\n",
    "    trackNameRaw = fullSearch.group(1)\n",
    "    dateRaw = fullSearch.group(2)\n",
    "    raceNumRaw = fullSearch.group(3)\n",
    "\n",
    "    #track name -> abbreviated name\n",
    "    trackNameFull = re.sub('[^A-Za-z]', '', trackNameRaw)\n",
    "    trackName = trackLongToShort[trackNameFull]\n",
    "\n",
    "    #date\n",
    "    dateSearch = re.search(r'([A-Za-z]*)(\\d),(\\d\\d\\d\\d)', dateRaw)\n",
    "    monthRaw = dateSearch.group(1)\n",
    "    month = monthNameToNumber[monthRaw]\n",
    "    day = dateSearch.group(2)\n",
    "    year = dateSearch.group(3)\n",
    "\n",
    "    #race number\n",
    "    raceNum = re.search('\\d?\\d', raceNumRaw).group(0)\n",
    "\n",
    "    out = [trackName, int(month), int(day), int(year), int(raceNum)]\n",
    "\n",
    "    return out"
   ]
  },
  {
   "cell_type": "code",
   "execution_count": null,
   "metadata": {},
   "outputs": [],
   "source": [
    "def parseLine2(line):\n",
    "    breedRaw = re.search(r'-(.*)$', line).group(1)\n",
    "    breed = re.sub('[^A-Za-z]', '', breedRaw)\n",
    "    return breed"
   ]
  },
  {
   "cell_type": "code",
   "execution_count": null,
   "metadata": {},
   "outputs": [],
   "source": [
    "def parseLine5(line):\n",
    "    fullSearch = re.search(r'([ A-Za-z]+)(?=Track)', line).group(0)\n",
    "    fullSearch = re.sub(r'[^A-Za-z]', '', fullSearch)\n",
    "    specSearch = re.match(r'(([A-Z][a-z]*)*)(?=OnThe)OnThe([A-Z][a-z]*)', fullSearch)\n",
    "    distanceRaw, surface = [specSearch.group(1), specSearch.group(3)]\n",
    "\n",
    "    out = [distanceRaw, surface]\n",
    "\n",
    "    return out"
   ]
  },
  {
   "cell_type": "code",
   "execution_count": 25,
   "metadata": {},
   "outputs": [],
   "source": [
    "def parseLine9(line):\n",
    "    fullSearch = re.search(r'Weather: *([A-Z][a-z]*) *Track: *([A-Z][a-z]*)', line)\n",
    "    weather = fullSearch.group(1)\n",
    "    conditions = fullSearch.group(2)\n",
    "\n",
    "    out = [weather, conditions]\n",
    "\n",
    "    return out"
   ]
  },
  {
   "cell_type": "code",
   "execution_count": 30,
   "metadata": {},
   "outputs": [],
   "source": [
    "def parseLine10(line):\n",
    "    fullSearch = re.search(r'Off at: *(\\d?\\d:\\d\\d) *Start: *([A-Z0-9][a-z0-9 ]*)', line)\n",
    "    startTime = fullSearch.group(1)\n",
    "    startNote = fullSearch.group(2)\n",
    "\n",
    "    out = [startTime, startNote]\n",
    "\n",
    "    return out"
   ]
  },
  {
   "cell_type": "code",
   "execution_count": 64,
   "metadata": {},
   "outputs": [],
   "source": [
    "#line = 'LOSALAMIT?OS-January4,2019-Race1' #first\n",
    "#line = 'MAIDENCLAIMING-Thoroughbred' #second\n",
    "#line = 'Four And One Half Furlongs On The Dirt Track Record: (Valiant Pete - 49.20 - August 11, 1990)' #fifth\n",
    "#line = 'Copyright 2020 Equibase Company LLC. All Rights Reserved.' #race flag\n",
    "#line = '    Weather:   Clear Track:Fast' #ninth\n",
    "#line = '    Off at: 7:02 Start: Good for all' #tenth\n",
    "#line = '   Last Raced       Pgm HorseName(Jockey)                        WgtM/E PP 1/4        1/2       1m       11/4     Str      Fin     Odds Comments' #belmont\n",
    "line = '    Last Raced            Pgm HorseName(Jockey)                                      Wgt M/E PP Start             1/4         Str         Fin       Odds Comments' #reg"
   ]
  },
  {
   "cell_type": "code",
   "execution_count": null,
   "metadata": {},
   "outputs": [],
   "source": [
    "trackLongToShort = {}\n",
    "trackShortToLong = {}\n",
    "tracksDF = pd.read_csv('tracks_v02.csv', delimiter=',', header=None)\n",
    "for i in range(tracksDF.shape[0]):\n",
    "    trackLongToShort[tracksDF.iloc[i,1]] = tracksDF.iloc[i,0]\n",
    "    trackShortToLong[tracksDF.iloc[i,0]] = tracksDF.iloc[i,1]"
   ]
  },
  {
   "cell_type": "code",
   "execution_count": null,
   "metadata": {},
   "outputs": [],
   "source": [
    "monthNameToNumber = {\n",
    "    'January': 1,\n",
    "    'February': 2,\n",
    "    'March': 3,\n",
    "    'April': 4,\n",
    "    'May': 5,\n",
    "    'June': 6,\n",
    "    'July': 7,\n",
    "    'August': 8,\n",
    "    'September': 9,\n",
    "    'October': 10,\n",
    "    'November': 11,\n",
    "    'December': 12\n",
    "}"
   ]
  }
 ]
}