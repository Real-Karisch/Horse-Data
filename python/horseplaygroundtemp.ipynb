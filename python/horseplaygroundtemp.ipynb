{
 "metadata": {
  "language_info": {
   "codemirror_mode": {
    "name": "ipython",
    "version": 3
   },
   "file_extension": ".py",
   "mimetype": "text/x-python",
   "name": "python",
   "nbconvert_exporter": "python",
   "pygments_lexer": "ipython3",
   "version": "3.7.6-final"
  },
  "orig_nbformat": 2,
  "kernelspec": {
   "name": "python_defaultSpec_1598218493026",
   "display_name": "Python 3.7.6 64-bit ('base': conda)"
  }
 },
 "nbformat": 4,
 "nbformat_minor": 2,
 "cells": [
  {
   "cell_type": "code",
   "execution_count": 1,
   "metadata": {},
   "outputs": [],
   "source": [
    "import re\n",
    "import pandas as pd\n",
    "import os\n",
    "import time\n",
    "from bs4 import BeautifulSoup\n",
    "import convertTxtToDFFns\n",
    "from xml2txt import bulkXml2Txt\n",
    "from pdf2xml import pdf2xml"
   ]
  },
  {
   "cell_type": "code",
   "execution_count": 25,
   "metadata": {},
   "outputs": [],
   "source": [
    "with open('cuck.txt') as file:\n",
    "    fullChart = file.readlines()"
   ]
  },
  {
   "cell_type": "code",
   "execution_count": 51,
   "metadata": {},
   "outputs": [],
   "source": [
    "line = ' BELMO<NT PARK - June 8, 2019 - Race 11'\n",
    "line = ' One And One Half Miles On The Dirt Track Record: (Secretariat - 2:24.00 - June 9, 1973)'"
   ]
  },
  {
   "cell_type": "code",
   "execution_count": null,
   "metadata": {},
   "outputs": [],
   "source": [
    "def parseFullDay(fullChart):\n",
    "newRaceInd = [-1] #first index will be 0 after conversion (controls for out of index error later)\n",
    "newRaceTest = 'Copyright 2020 Equibase Company LLC. All Rights Reserved.'\n",
    "for i in range(len(fullChart)):\n",
    "    if re.search(newRaceTest, fullChart[i]) is not None: #check for the expression that signifies end of race\n",
    "        newRaceInd.append(i)\n",
    "\n",
    "    dayDF = pd.DataFrame(columns=['trackName','month','day','year','raceNum','breed','distance','surface','segment1','segment2','segment3','segment4','segment5','segments'])\n",
    "\n",
    "    for i in range(len(newRaceInd) - 1):\n",
    "\n",
    "        raceDF = parseRace(fullChart[newRaceInd[i] + 1:newRaceInd[i + 1]]) #loop over chunks of the file, each chunk representing a full race\n",
    "        if type(raceDF) == str:\n",
    "            continue\n",
    "        else:\n",
    "            dayDF = pd.concat([dayDF, raceDF])\n",
    "\n",
    "    return dayDF"
   ]
  },
  {
   "cell_type": "code",
   "execution_count": null,
   "metadata": {},
   "outputs": [],
   "source": [
    "def parseRace(raceChart):\n",
    "\n",
    "    cnt = 0\n",
    "\n",
    "    for line in raceChart:\n",
    "        if re.search('Cancelled *- *', line) is not None:\n",
    "            return 'Error - cancelled'\n",
    "        elif re.search('Track *Record:', line) is not None:\n",
    "            trackRecordInd = cnt\n",
    "        elif re.search('Off *at:', line) is not None:\n",
    "            genInd = cnt + 2\n",
    "        elif re.search('Last *Raced *Pgm', line) is not None:\n",
    "            horseInd = [cnt + 1]\n",
    "        elif re.search('Fractional *Times:', line):\n",
    "            horseInd.append(cnt)\n",
    "            endInd = cnt\n",
    "        cnt += 1\n",
    "    \n",
    "    genItems = parseGenInfo(raceChart[:genInd], trackRecordInd=trackRecordInd)\n",
    "\n",
    "    if genItems == 'Error':\n",
    "        return 'Error - Quarter Horse'\n",
    "    \n",
    "    if len(raceChart) < horseInd[1]:\n",
    "        jack = 1\n",
    "    horseItems = parseHorseInfo(raceChart[horseInd[0]:horseInd[1]])\n",
    "    #endItems = parseEndInfo(raceChart[endInd:])\n",
    "\n",
    "    genDF = pd.DataFrame(horseItems)\n",
    "    \n",
    "    return genDF"
   ]
  },
  {
   "cell_type": "code",
   "execution_count": 29,
   "metadata": {
    "tags": []
   },
   "outputs": [
    {
     "output_type": "stream",
     "name": "stdout",
     "text": "[' BELMO<NT PARK - June 8, 2019 - Race 11\\n', ' STAKES Belmont S. Grade 1 - Thoroughbred\\n', ' FOR THREE YEAR OLDS. By subscription of $600 each, to accompany the nomination, if made on or before January 26, 2019, or\\n', ' $6,000, if made on or before April 1, 2019. At any time prior to the closing time of entries, horses may be nominated to The\\n', ' BelmontStakes upon payment of a supplementary fee of $50,000 to the New York Racing Association, Inc. $15,000 to pass the\\n', ' entry box and $15,000 additional to start. All entrants will be required to pay entry and starting fees; but no fees, supplemental or\\n', ' otherwise shall be added to the purse. The purse to be divided $800,000 to the winner, $280,000 to second, $150,000 to third,\\n', ' $100,000 to fourth, $60,000 to fifth, $45,000 to sixth, $35,000 to seventh and $30,000 to eighth. Colts and Geldings, 126 lbs.; Fillies,\\n', ' 121 lbs. The winning owner will be presented with the August Belmont Memorial Cup to be retained for one year as well as a trophy\\n', ' for permanent possession and trophies to the winning trainer and jockey.\\n', ' One And One Half Miles On The Dirt Track Record: (Secretariat - 2:24.00 - June 9, 1973)\\n', ' Purse: $1,500,000 Guaranteed\\n', ' Available Money: $1,500,000\\n', ' Value of Race: $1,500,000 1st $800,000, 2nd $280,000, 3rd $150,000, 4th $100,000, 5th $60,000, 6th $45,000, 7th $35,000, 8th\\n', ' Video Race Replay\\n', ' $30,000\\n', ' Weather: Clear Track: Fast\\n', ' Off at: 6:38 Start: Good for all\\n', ' Last Raced Pgm Horse Name (Jockey) Wgt M/E PP 1/4 1/2 1m 11/4 Str Fin Odds Comments\\n', ' 4 2 1 1 1 1 1 1\\n', ' 11May19 BEL 7 Sir Winston (Rosario, Joel) 126 L b 7 8 8 7 3 2 1 10.20 ins,traffic1/4,4w upr\\n', ' 12 3 1/2 11/2 1 1/2 1 3/4\\n', ' 4May19 CD 10 Tacitus (Ortiz, Jose) 126 L 10 7 7 8 5 4 2 1.95* 3w1st,5w2nd,bump upr\\n', ' 9 1 1 1/2 1/2 Head Head 1\\n', ' 12May19 MTH 1 Joevia (Lezcano, Jose) 126 L 1 1 1 1 1 1 3 21.60 ins,ask 1/4,wknd\\n', ' 12 14 2 11/2 11/2 1 1/2 Head\\n', ' 4May19 CD 4 Tax (Ortiz, Jr., Irad) 126 L 4 2 2 2 2 3 4 11.70 prompt 2w,bid 1/4,flat\\n', ' 12 6 1 1 2 Neck\\n', ' 4May19 CD 3 Master Fencer (JPN) (Leparoux, Julien) 126 h 3 10 10 9 9 9 5 13.30 ins,3w 3/8,6w lane\\n', ' 12 18 1/2 1 1 1/2 1/2 Nose\\n', ' 4May19 CD 6 Spinoff (Castellano, Javier) 126 L 6 3 3 3 6 6 6 10.40 3w both turns, tired\\n', ' 13 2 1 Head Head 11/2 Head 13/4\\n', ' 18May19 PIM 2 Everfast (Saez, Luis) 126 L 2 4 5 4 7 5 7 16.50 ins to 1/2,wedge 2w 2d\\n', ' 4 3 1 1/2 Head 1 Head 21/4\\n', ' 11May19 BEL 8 Intrepid Heart (Velazquez, John) 126 L b 8 6 6 6 8 8 8 6.90 brush brk,2-3w to 1/4\\n', ' 13 1 1 1 1/2 1/2 2 43/4\\n', ' 18May19 PIM 9 War of Will (Gaffalione, Tyler) 126 L 9 5 4 5 4 7 9 3.65 brsh st,4w,bumped upr\\n', ' 13 8 1/2 1/2\\n', ' 18May19 PIM 5 Bourbon War (Smith, Mike) 126 L 5 9 9 10 10 10 10 10.00 2w pursuit, no factor\\n', ' Fractional Times: 23.92 48.79 1:13.54 1:38.27 2:02.72 Final Time: 2:28.30\\n', ' Split Times: (24:87) (24:75) (24:73) (24:45) (25:58)\\n', ' Run-Up: 78 feet\\n', ' Winner: Sir Winston, Chestnut Colt, by Awesome Again out of La Gran Bailadora, by Afleet Alex. Foaled Apr 08, 2016 in Kentucky.\\n', ' Breeder: Tracy Farmer.\\n', ' Winning Owner: Tracy Farmer\\n', ' Total WPS Pool: $17,352,418\\n', ' Pgm Horse Win Place Show Wager Type Winning Numbers Payoff Pool\\n', ' 7 Sir Winston 22.40 8.80 6.10 $1.00 Exacta 7-10 48.00 9,914,302\\n', ' 10 Tacitus 3.90 3.20 $0.50 Trifecta 7-10-1 622.00 10,567,921\\n', ' 1 Joevia 8.70 $0.10 Superfecta 7-10-1-4 1,042.80 6,396,259\\n', ' $1.00 Daily Double (BEL GC-BEL) 3-7 74.75 455,648\\n', ' $1.00 Daily Double 8-7 25.75 840,466\\n', ' $1.00 Pick 3 3-8-7 (3 correct) 147.50 1,336,365\\n', ' $0.50 Pick 4 8-3-8/9-7 (4 correct) 2,118.00 3,603,840\\n', ' $0.50 Pick 5 7-8-3-8/9-7 (5 correct) 10,202.75 480,130\\n', ' $0.20 Pick 6 (FESTIVAL P6) 9,505.90 656,139\\n', ' 3-3-8-3-8-7 (6 correct)\\n', ' $0.20 Pick 6 (FESTIVAL P6) 63.40 0\\n', ' 3-3-8-3-8-7 (5 correct)\\n', ' $2.00 Pick 6 1/4/8-7-8-3-8/9-7 (5 180.00 0\\n', ' correct)\\n', ' $2.00 Pick 6 1/4/8-7-8-3-8/9-7 (6 35,807.00 1,634,038\\n', ' correct)\\n', ' Past Performance Running Line Preview\\n', ' Pgm Horse Name 1/4 1/2 1m 11/4 Str Fin\\n', ' 7 6 33/4 1 Head 1\\n', ' 7 Sir Winston 8 8 7 3 2 1\\n', ' 61/2 41/2 43/4 21/2 11/2 1\\n', ' 10 Tacitus 7 7 8 5 4 2\\n', ' 1 1/2 1/2 Head Head 13/4\\n', ' 1 Joevia 1 1 1 1 1 3\\n', ' 1 1/2 1/2 Head 1 23/4\\n', ' 4 Tax 2 2 2 2 3 4\\n', ' 81/2 71/2 53/4 6 51/4 23/4\\n', ' 3 Master Fencer (JPN) 10 10 9 9 9 5\\n', ' 3 2 2 3 23/4 3\\n', ' 6 Spinoff 3 3 3 6 6 6\\n', ' 31/2 4 3 31/2 21/2 31/4\\n', ' 2 Everfast 4 5 4 7 5 7\\n', ' 51/2 4 31/2 5 51/4 5\\n', ' 8 Intrepid Heart 6 6 6 8 8 8\\n', ' 41/2 3 3 2 31/4 71/4\\n', ' 9 War of Will 5 4 5 4 7 9\\n', ' 8 7 63/4 7 71/4 12\\n', ' 5 Bourbon War 9 9 10 10 10 10\\n', ' Trainers: 7 - Casse, Mark; 10 - Mott, William; 1 - Sacco, Gregory; 4 - Gargan, Danny; 3 - Tsunoda, Koichi; 6 - Pletcher, Todd; 2 - Romans, Dale; 8 -\\n', ' Pletcher, Todd; 9 - Casse, Mark; 5 - Hennig, Mark\\n', ' Owners: 7 -Tracy Farmer; 10 - Juddmonte Farms, Inc.; 1 - Fazio, Michael and Fazio, Jeff; 4 - R. A. Hill Stable, Reeves Thoroughbred Racing, Lynch,\\n', ' Hugh and Corms Racing Stable; 3 -Katsumi Yoshizawa; 6 - Wertheimer and Frere; 2 - Calumet Farm; 8 - Low, Lawana L. and Robert E.; 9 -Gary\\n', ' Barber; 5 - Bourbon Lane Stable (J. Hill, M. McMahon) and Lake Star Stable;\\n', ' Footnotes\\n', ' SIR WINSTON made it over to the rail before arriving at the end of the homestretch, tracked the front runners patiently handled, gained sufficient room with\\n', ' which to advance along the inside route after EVERFAST vacated it at the half mile pole, snaked his way into a good striking position, was forced to wait\\n', ' behind some traffic nearing the quarter pole, accelerated when put to some encouragement, out-racing a pair of opponents for position spinning into the\\n', ' lane, straightened away approximately four wide and took off after the ones to catch, ground his way to the front end, wresting away the advantage just\\n', ' inside the furlong marker and edged away. TACITUS brushed with WAR OF WIILL springing from the starting gate, settled into stride and into midpack,\\n', ' raced three wide around the clubhouse bend, was rated proceeding along the backstretch, tipped to the outside coming up to its conclusion, wound up on\\n', ' the overland route making his way on the far turn, got called upon leaving the five-sixteenths marker, bumped with WAR OF WILL as they spun into stretch\\n', ' directly abreast of each other, shifted closer to the rail when rein-ridden traversing through the furlong grounds, was taken hold and maneuvered back into\\n', ' path five at the eighth pole, gained ground in a steadfast manner to garner the place. JOEVIA broke in line with TAX, established the top by the crown of the\\n', ' opening bend, showed the way with the aforementioned rival in attendance to the outside, was put to the test by that opponent nearing the quarter pole and\\n', ' was turned loose, offered resistance before yielding to the winner in midlane, weakened into the show slot. TAX hand urged from the gate, was taken hold\\n', ' once JOEVIA assumed control, prompted the pace two to three wide, bid for the top as the field stepped into the stretch, wandered out four wide during the\\n', \" ensuing furlong, wasn't up to the task at hand and weakened. MASTER FENCER (JPN) rode the rail until the half mile pole, responded when let out a\\n\", ' notch, working his way into path three by midpoint, paused at the five-sixteenths pole then proceeded to shift six wide from that station to the\\n', ' three-sixteenths pole, rallied mildly mainly improving position. SPINOFF strung out three wide on both turns, lacked the necessary stretch response.\\n', ' EVERFAST loosely pocketed to the half mile pole, was wedged in between rivals two wide on the second bend, swung into the lane, failed to make the\\n', ' necessary headway and retreated in the last eighth. INTREPID HEART brushed at the start after losing his footing, raced two to three wide to the quarter\\n', ' pole, stepped into the stretch under a ride and had no rally. WAR OF WILL made light contact with TACITUS after losing his footing as the field was sent off\\n', ' and running, was in path four making his way on the first turn, was still in same path in pursuit of the front runners, the widest of all, and without benefit of\\n', ' cover, departed the backstretch once again stationed in the four path, got cued up approaching the quarter pole, turned into the lane in tight quarters with\\n', ' the second place finisher, resulting in a solid bump between them, kept up its pursuit for a little while longer before faltering. BOURBON WAR unhurried\\n', ' during the initial stages sitting at the back of the pack in the two path, failed to reach a contending position.\\n', ' Denotes a Keeneland Sales Graduate\\n']\n"
    }
   ],
   "source": [
    "newRaceInd = [-1] #first index will be 0 after conversion (controls for out of index error later)\n",
    "newRaceTest = 'Copyright 2020 Equibase Company LLC. All Rights Reserved.'\n",
    "for i in range(len(fullChart)):\n",
    "    if re.search(newRaceTest, fullChart[i]) is not None: #check for the expression that signifies end of race\n",
    "        newRaceInd.append(i)\n",
    "for i in range(len(newRaceInd) - 1):\n",
    "    print(fullChart[newRaceInd[i] + 1:newRaceInd[i + 1]]) #loop over chunks of the file, each chunk representing a full race"
   ]
  },
  {
   "cell_type": "code",
   "execution_count": 26,
   "metadata": {},
   "outputs": [
    {
     "output_type": "execute_result",
     "data": {
      "text/plain": "[' BELMO<NT PARK - June 8, 2019 - Race 11\\n',\n ' STAKES Belmont S. Grade 1 - Thoroughbred\\n',\n ' FOR THREE YEAR OLDS. By subscription of $600 each, to accompany the nomination, if made on or before January 26, 2019, or\\n',\n ' $6,000, if made on or before April 1, 2019. At any time prior to the closing time of entries, horses may be nominated to The\\n',\n ' BelmontStakes upon payment of a supplementary fee of $50,000 to the New York Racing Association, Inc. $15,000 to pass the\\n',\n ' entry box and $15,000 additional to start. All entrants will be required to pay entry and starting fees; but no fees, supplemental or\\n',\n ' otherwise shall be added to the purse. The purse to be divided $800,000 to the winner, $280,000 to second, $150,000 to third,\\n',\n ' $100,000 to fourth, $60,000 to fifth, $45,000 to sixth, $35,000 to seventh and $30,000 to eighth. Colts and Geldings, 126 lbs.; Fillies,\\n',\n ' 121 lbs. The winning owner will be presented with the August Belmont Memorial Cup to be retained for one year as well as a trophy\\n',\n ' for permanent possession and trophies to the winning trainer and jockey.\\n',\n ' One And One Half Miles On The Dirt Track Record: (Secretariat - 2:24.00 - June 9, 1973)\\n',\n ' Purse: $1,500,000 Guaranteed\\n',\n ' Available Money: $1,500,000\\n',\n ' Value of Race: $1,500,000 1st $800,000, 2nd $280,000, 3rd $150,000, 4th $100,000, 5th $60,000, 6th $45,000, 7th $35,000, 8th\\n',\n ' Video Race Replay\\n',\n ' $30,000\\n',\n ' Weather: Clear Track: Fast\\n',\n ' Off at: 6:38 Start: Good for all\\n',\n ' Last Raced Pgm Horse Name (Jockey) Wgt M/E PP 1/4 1/2 1m 11/4 Str Fin Odds Comments\\n',\n ' 4 2 1 1 1 1 1 1\\n',\n ' 11May19 BEL 7 Sir Winston (Rosario, Joel) 126 L b 7 8 8 7 3 2 1 10.20 ins,traffic1/4,4w upr\\n',\n ' 12 3 1/2 11/2 1 1/2 1 3/4\\n',\n ' 4May19 CD 10 Tacitus (Ortiz, Jose) 126 L 10 7 7 8 5 4 2 1.95* 3w1st,5w2nd,bump upr\\n',\n ' 9 1 1 1/2 1/2 Head Head 1\\n',\n ' 12May19 MTH 1 Joevia (Lezcano, Jose) 126 L 1 1 1 1 1 1 3 21.60 ins,ask 1/4,wknd\\n',\n ' 12 14 2 11/2 11/2 1 1/2 Head\\n',\n ' 4May19 CD 4 Tax (Ortiz, Jr., Irad) 126 L 4 2 2 2 2 3 4 11.70 prompt 2w,bid 1/4,flat\\n',\n ' 12 6 1 1 2 Neck\\n',\n ' 4May19 CD 3 Master Fencer (JPN) (Leparoux, Julien) 126 h 3 10 10 9 9 9 5 13.30 ins,3w 3/8,6w lane\\n',\n ' 12 18 1/2 1 1 1/2 1/2 Nose\\n',\n ' 4May19 CD 6 Spinoff (Castellano, Javier) 126 L 6 3 3 3 6 6 6 10.40 3w both turns, tired\\n',\n ' 13 2 1 Head Head 11/2 Head 13/4\\n',\n ' 18May19 PIM 2 Everfast (Saez, Luis) 126 L 2 4 5 4 7 5 7 16.50 ins to 1/2,wedge 2w 2d\\n',\n ' 4 3 1 1/2 Head 1 Head 21/4\\n',\n ' 11May19 BEL 8 Intrepid Heart (Velazquez, John) 126 L b 8 6 6 6 8 8 8 6.90 brush brk,2-3w to 1/4\\n',\n ' 13 1 1 1 1/2 1/2 2 43/4\\n',\n ' 18May19 PIM 9 War of Will (Gaffalione, Tyler) 126 L 9 5 4 5 4 7 9 3.65 brsh st,4w,bumped upr\\n',\n ' 13 8 1/2 1/2\\n',\n ' 18May19 PIM 5 Bourbon War (Smith, Mike) 126 L 5 9 9 10 10 10 10 10.00 2w pursuit, no factor\\n',\n ' Fractional Times: 23.92 48.79 1:13.54 1:38.27 2:02.72 Final Time: 2:28.30\\n',\n ' Split Times: (24:87) (24:75) (24:73) (24:45) (25:58)\\n',\n ' Run-Up: 78 feet\\n',\n ' Winner: Sir Winston, Chestnut Colt, by Awesome Again out of La Gran Bailadora, by Afleet Alex. Foaled Apr 08, 2016 in Kentucky.\\n',\n ' Breeder: Tracy Farmer.\\n',\n ' Winning Owner: Tracy Farmer\\n',\n ' Total WPS Pool: $17,352,418\\n',\n ' Pgm Horse Win Place Show Wager Type Winning Numbers Payoff Pool\\n',\n ' 7 Sir Winston 22.40 8.80 6.10 $1.00 Exacta 7-10 48.00 9,914,302\\n',\n ' 10 Tacitus 3.90 3.20 $0.50 Trifecta 7-10-1 622.00 10,567,921\\n',\n ' 1 Joevia 8.70 $0.10 Superfecta 7-10-1-4 1,042.80 6,396,259\\n',\n ' $1.00 Daily Double (BEL GC-BEL) 3-7 74.75 455,648\\n',\n ' $1.00 Daily Double 8-7 25.75 840,466\\n',\n ' $1.00 Pick 3 3-8-7 (3 correct) 147.50 1,336,365\\n',\n ' $0.50 Pick 4 8-3-8/9-7 (4 correct) 2,118.00 3,603,840\\n',\n ' $0.50 Pick 5 7-8-3-8/9-7 (5 correct) 10,202.75 480,130\\n',\n ' $0.20 Pick 6 (FESTIVAL P6) 9,505.90 656,139\\n',\n ' 3-3-8-3-8-7 (6 correct)\\n',\n ' $0.20 Pick 6 (FESTIVAL P6) 63.40 0\\n',\n ' 3-3-8-3-8-7 (5 correct)\\n',\n ' $2.00 Pick 6 1/4/8-7-8-3-8/9-7 (5 180.00 0\\n',\n ' correct)\\n',\n ' $2.00 Pick 6 1/4/8-7-8-3-8/9-7 (6 35,807.00 1,634,038\\n',\n ' correct)\\n',\n ' Past Performance Running Line Preview\\n',\n ' Pgm Horse Name 1/4 1/2 1m 11/4 Str Fin\\n',\n ' 7 6 33/4 1 Head 1\\n',\n ' 7 Sir Winston 8 8 7 3 2 1\\n',\n ' 61/2 41/2 43/4 21/2 11/2 1\\n',\n ' 10 Tacitus 7 7 8 5 4 2\\n',\n ' 1 1/2 1/2 Head Head 13/4\\n',\n ' 1 Joevia 1 1 1 1 1 3\\n',\n ' 1 1/2 1/2 Head 1 23/4\\n',\n ' 4 Tax 2 2 2 2 3 4\\n',\n ' 81/2 71/2 53/4 6 51/4 23/4\\n',\n ' 3 Master Fencer (JPN) 10 10 9 9 9 5\\n',\n ' 3 2 2 3 23/4 3\\n',\n ' 6 Spinoff 3 3 3 6 6 6\\n',\n ' 31/2 4 3 31/2 21/2 31/4\\n',\n ' 2 Everfast 4 5 4 7 5 7\\n',\n ' 51/2 4 31/2 5 51/4 5\\n',\n ' 8 Intrepid Heart 6 6 6 8 8 8\\n',\n ' 41/2 3 3 2 31/4 71/4\\n',\n ' 9 War of Will 5 4 5 4 7 9\\n',\n ' 8 7 63/4 7 71/4 12\\n',\n ' 5 Bourbon War 9 9 10 10 10 10\\n',\n ' Trainers: 7 - Casse, Mark; 10 - Mott, William; 1 - Sacco, Gregory; 4 - Gargan, Danny; 3 - Tsunoda, Koichi; 6 - Pletcher, Todd; 2 - Romans, Dale; 8 -\\n',\n ' Pletcher, Todd; 9 - Casse, Mark; 5 - Hennig, Mark\\n',\n ' Owners: 7 -Tracy Farmer; 10 - Juddmonte Farms, Inc.; 1 - Fazio, Michael and Fazio, Jeff; 4 - R. A. Hill Stable, Reeves Thoroughbred Racing, Lynch,\\n',\n ' Hugh and Corms Racing Stable; 3 -Katsumi Yoshizawa; 6 - Wertheimer and Frere; 2 - Calumet Farm; 8 - Low, Lawana L. and Robert E.; 9 -Gary\\n',\n ' Barber; 5 - Bourbon Lane Stable (J. Hill, M. McMahon) and Lake Star Stable;\\n',\n ' Footnotes\\n',\n ' SIR WINSTON made it over to the rail before arriving at the end of the homestretch, tracked the front runners patiently handled, gained sufficient room with\\n',\n ' which to advance along the inside route after EVERFAST vacated it at the half mile pole, snaked his way into a good striking position, was forced to wait\\n',\n ' behind some traffic nearing the quarter pole, accelerated when put to some encouragement, out-racing a pair of opponents for position spinning into the\\n',\n ' lane, straightened away approximately four wide and took off after the ones to catch, ground his way to the front end, wresting away the advantage just\\n',\n ' inside the furlong marker and edged away. TACITUS brushed with WAR OF WIILL springing from the starting gate, settled into stride and into midpack,\\n',\n ' raced three wide around the clubhouse bend, was rated proceeding along the backstretch, tipped to the outside coming up to its conclusion, wound up on\\n',\n ' the overland route making his way on the far turn, got called upon leaving the five-sixteenths marker, bumped with WAR OF WILL as they spun into stretch\\n',\n ' directly abreast of each other, shifted closer to the rail when rein-ridden traversing through the furlong grounds, was taken hold and maneuvered back into\\n',\n ' path five at the eighth pole, gained ground in a steadfast manner to garner the place. JOEVIA broke in line with TAX, established the top by the crown of the\\n',\n ' opening bend, showed the way with the aforementioned rival in attendance to the outside, was put to the test by that opponent nearing the quarter pole and\\n',\n ' was turned loose, offered resistance before yielding to the winner in midlane, weakened into the show slot. TAX hand urged from the gate, was taken hold\\n',\n ' once JOEVIA assumed control, prompted the pace two to three wide, bid for the top as the field stepped into the stretch, wandered out four wide during the\\n',\n \" ensuing furlong, wasn't up to the task at hand and weakened. MASTER FENCER (JPN) rode the rail until the half mile pole, responded when let out a\\n\",\n ' notch, working his way into path three by midpoint, paused at the five-sixteenths pole then proceeded to shift six wide from that station to the\\n',\n ' three-sixteenths pole, rallied mildly mainly improving position. SPINOFF strung out three wide on both turns, lacked the necessary stretch response.\\n',\n ' EVERFAST loosely pocketed to the half mile pole, was wedged in between rivals two wide on the second bend, swung into the lane, failed to make the\\n',\n ' necessary headway and retreated in the last eighth. INTREPID HEART brushed at the start after losing his footing, raced two to three wide to the quarter\\n',\n ' pole, stepped into the stretch under a ride and had no rally. WAR OF WILL made light contact with TACITUS after losing his footing as the field was sent off\\n',\n ' and running, was in path four making his way on the first turn, was still in same path in pursuit of the front runners, the widest of all, and without benefit of\\n',\n ' cover, departed the backstretch once again stationed in the four path, got cued up approaching the quarter pole, turned into the lane in tight quarters with\\n',\n ' the second place finisher, resulting in a solid bump between them, kept up its pursuit for a little while longer before faltering. BOURBON WAR unhurried\\n',\n ' during the initial stages sitting at the back of the pack in the two path, failed to reach a contending position.\\n',\n ' Denotes a Keeneland Sales Graduate\\n',\n ' Copyright 2020 Equibase Company LLC. All Rights Reserved.\\n']"
     },
     "metadata": {},
     "execution_count": 26
    }
   ],
   "source": [
    "fullChart"
   ]
  },
  {
   "cell_type": "code",
   "execution_count": 36,
   "metadata": {},
   "outputs": [],
   "source": [
    "trackLongToShort = {}\n",
    "trackShortToLong = {}\n",
    "tracksDF = pd.read_csv('./../excel/tracks_v03.csv', delimiter=',', header=None)\n",
    "for i in range(tracksDF.shape[0]):\n",
    "    trackLongToShort[tracksDF.iloc[i,1]] = tracksDF.iloc[i,0]\n",
    "    trackShortToLong[tracksDF.iloc[i,0]] = tracksDF.iloc[i,1]"
   ]
  },
  {
   "cell_type": "code",
   "execution_count": 43,
   "metadata": {},
   "outputs": [],
   "source": [
    "monthNameToNumber = {\n",
    "    'January': 1,\n",
    "    'February': 2,\n",
    "    'March': 3,\n",
    "    'April': 4,\n",
    "    'May': 5,\n",
    "    'June': 6,\n",
    "    'July': 7,\n",
    "    'August': 8,\n",
    "    'September': 9,\n",
    "    'October': 10,\n",
    "    'November': 11,\n",
    "    'December': 12\n",
    "}"
   ]
  },
  {
   "cell_type": "code",
   "execution_count": null,
   "metadata": {},
   "outputs": [],
   "source": []
  }
 ]
}