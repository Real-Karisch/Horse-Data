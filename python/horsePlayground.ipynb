{
 "metadata": {
  "language_info": {
   "codemirror_mode": {
    "name": "ipython",
    "version": 3
   },
   "file_extension": ".py",
   "mimetype": "text/x-python",
   "name": "python",
   "nbconvert_exporter": "python",
   "pygments_lexer": "ipython3",
   "version": "3.7.6-final"
  },
  "orig_nbformat": 2,
  "kernelspec": {
   "name": "python_defaultSpec_1597626763617",
   "display_name": "Python 3.7.6 64-bit ('base': conda)"
  }
 },
 "nbformat": 4,
 "nbformat_minor": 2,
 "cells": [
  {
   "cell_type": "code",
   "execution_count": 1,
   "metadata": {
    "tags": []
   },
   "outputs": [],
   "source": [
    "import re\n",
    "import pandas as pd\n",
    "import os\n",
    "import convertTxtToDFFns"
   ]
  },
  {
   "cell_type": "code",
   "execution_count": 2,
   "metadata": {},
   "outputs": [],
   "source": [
    "with open('./../charts/LA-1.4.19.txt') as file:\n",
    "    ex1 = file.readlines() #import a txt file\n",
    "with open('./../charts/LP-1.13.19.txt') as file:\n",
    "    ex2 = file.readlines() #import another\n",
    "with open('./../charts/MVR-1.2.19.txt') as file:\n",
    "    ex3 = file.readlines() #import another\n",
    "with open('./../charts/SUN-1.12.19.txt') as file:\n",
    "    ex4 = file.readlines() #import another\n",
    "with open('./../charts/belmont.txt') as file:\n",
    "    belmont = file.readlines() #import another"
   ]
  },
  {
   "cell_type": "code",
   "execution_count": 3,
   "metadata": {
    "tags": []
   },
   "outputs": [
    {
     "output_type": "stream",
     "name": "stdout",
     "text": "10Dec18 ZIA       7   SunnyKat(Gonzalez, Elvin)              123 L      5 3      1        1        1        1        1        1.60* 3w, shift in, ask 1/4\n\n   26Nov18 ZIA       4   Fire Power (Fuentes, Jr., Miguel)      123 Lbf    3 1      2        3        2        2        2        4.30 btw,no match,held 2nd\n\n   10Dec18 ZIA       2   Plenty Patriotic (Eikleberry, Ry)      121 Lb     2 4      5        5        5        4        3        5.80 settled,4w,missed 2nd\n\n   10Dec18 ZIA       5   AwesomeKP(Contreras,Luis)              123 Lb     4 5      4        4        3        3        4        1.60 3-4w advance,flattened\n\n   25Nov18 ZIA       1   Spring Loaded (Juarez, Jr., Alfredo)   121 Lb2    1 2      3        2        4        5        5        6.10 press,chase insd,wknd\n\n   30Dec18 SUN        4   Cloud Harbor (Eikleberry, Ry)            124 L        4 1      2         1        1         1        1.30* drifted out, held\n\n   26Nov18 ZIA        2   Tiza Roll (Enriquez, Isaias)             124 L        2 3      1         2        2         2         6.00 carried out, 2nd best\n\n   9Dec18 ZIA         6   DomJuan(Gonzalez,Elvin)                  124 Lb       6 5      5         4        3         3         2.70 5-w, along for 3rd\n\n   30Dec18 SUN        7   Cry Summation (Medellin, Alejandro)      124 b        7 6      6         3        4         4        18.90 7-w, flattened out\n\n   5May18 SRP         1   HappyForty Eight (Tohill, Ken)           124 Lb       1 2      3         6        5         5        11.10 angled out, faded\n\n   1Jan19 SUN         8   Easy Topper (Torres, Jose)               124 Lb       8 7      8         7        7         6        11.90 6-w, never fired\n\n   19Nov18 ZIA        5   Lauras Indianmusic (Gonzalez, Jorge)     124 Lf       5 8      4         5        6         7        26.10 between, tired\n\n   7Oct18 ZIA         3   ChachasSpecial (Laviolette, Shane)       124 Lb       3 4      7         8        8         8         5.30 inside, no rally\n\n   11Dec18 ZIA        5   Dublins Wildberry (Laviolette, Shane)    122 Lb      5 10      4        1         1        1         4.40 tight early, led 5/16\n\n   26Nov18 ZIA        6   Curlina Curlina (Contreras, Luis)        124 L       6 11      10       7         4        2        0.70* tight brk,6w,gain 2nd\n\n   11Dec18 ZIA        4   It's About Alex (Chavez, Casey)          122 Lb      4 9       8        4         3        3        14.70 stdy st,3-4w,lost 2nd\n\n   17Dec18 ZIA        2   Topaz Jewel (Torres, Jose)               124 L       2 5       3        6         5        4        10.20 inside, came out\n\n   11Dec18 ZIA       10   Easy Target (Sigala, Alfredo)            124 Lbf    10 3       2        2         2        5        35.10 led 7/16-5/16,weakened\n\n   11Dec18 ZIA        3   Sufficient Grace (Rosendo, Irwin)        122 L       3 6       6        9         6        6        12.10 chased, evenly\n\n   16Oct18 ZIA        7   Daylight Charger (Rodriguez, Luis)       122 L       7 2       1        3         7        7        36.60 brief speed, faded\n\n   11Dec18 RP        11   Bobsindianrose (Herrera, Gustavo)        117» L     11 4       7        5         8        8         9.10 reluctant,6-7w,empty\n\n   11Dec18 ZIA        1   Empire Zone (Garcia, Enrique)            124 Lb      1 7       11       11        10       9        49.80 soon dropped back\n\n   2Oct18 ZIA         9   RunNancySue(Carreno,Jorge)               123 Lb      9 8       9        8         9        10       22.60 fractious, tight brk\n\n   ---                8   Okie Storm (Medellin, Alejandro)         122 Lbf     8 1       5        10        11       11       33.50 soon dropped back\n\n   16Nov18 RP         7   Notation (Herrera, Gustavo)              117» L       7 2      5         3        1         1        0.80* drew off, easy winner\n\n   19Nov18 ZIA        4   Dani's Ring (Medellin, Alejandro)        124 Lb       4 7      7         4        4         2        25.20 nomatch, 2nd best\n\n   19Dec18 ZIA        1   Calimonco Flyer (Gonzalez, Jorge)        122 Lb       1 5      1         1        2         3         6.00 pace, gave way\n\n   30Dec18 SUN        6   Silver Flask (Reyes, Frank)              122 Lbk      6 1      2         2        3         4         9.90 pressed, tired\n\n   7May18 SRP         3   CCCoaler(Sigala, Alfredo)                124 --       3 6      6         7        6         5        15.30 between, no rally\n\n   29Dec18 SUN        2   Hoppitty (Tohill, Ken)                   124 L        2 3      3         5        5         6         2.30 inside, faded\n\n   30Dec18 SUN        5   MGMWinterGhost(Garcia,Enrique)           124 Lb       5 4      4         6        7         7        15.80 6-w, flattened out\n\n   27Nov18 ZIA        4   Rig Time (Rosendo, Irwin)                122 Lb      4 4       3        2         1        1        0.70* forged clear late\n\n   3Dec18 ZIA         3   Big Hitter (Contreras, Luis)             124 Lb      3 1       1        1         2        2         1.70 pace off rail, yielded\n\n   30Oct18 ZIA        6   Storming Back (Laviolette, Shane)        124 Lb      6 3       4        4         4        3         6.30 nomatch,captured show\n\n   11Dec18 ZIA        2   Golly Gee (Juarez, Jr., Alfredo)         124 Lb      2 5       5        5         5        4        17.30 cameoutstretch\n\n   10Dec18 ZIA        5   Almost a Storm (Chavez, Casey)           122 Lb      5 2       2        3         3        5        14.50 in range 4w, empty\n\n   4Nov18 ZIA         1   Storm the Beach (Sigala, Alfredo)        124 Lb      1 6       6        6         6        6        17.70 never fired\n\n   29Oct18 ZIA        6   Dubdubwatson (Contreras, Luis)           124 L       6 2       3        2         1        1        1.40* dueled, prevailed\n\n   3Dec18 ZIA         2   Black Ops (Gonzalez, Santiago)           124 L       2 3       2        1         2        2         1.50 dueled, 2nd best\n\n   27Nov18 ZIA        4   Officer Griggs (Gomez, Enrique)          124 Lb      4 1       5        6         3        3        19.40 settled, along for 3rd\n\n   21Nov18 ZIA        5   Flashaway (Gonzalez, Elvin)              124 Lb      5 7       6        5         4        4         5.60 5-w, never fired\n\n   27Nov18 ZIA        7   Dynamic Ruler (Amparan, Francisco)       124 L       7 5       7        4         5        4        16.90 7-w, no rally\n\n   29Dec18 SUN        3   Ziptime (Tohill, Ken)                    124 Lb      3 6       4        7         6        6         9.60 inside, faded\n\n   27Nov18 ZIA        1   Westmont(Juarez, Jr., Alfredo)           124 L       1 4       1        3         7        7        12.60 pace, gave way\n\n   30Dec18 SUN          4   MoEdWho(Carreno,Jorge)                       123 Lb       4 6       3          3         1         1         1         2.10* 3-4w,edged clear late\n\n   30Dec18 SUN          5   Storm Wind Chaser (Eikleberry, Ry)           120 L        5 3       2          2         2         2         2          4.20 stalked,btw,yield late\n\n   30Dec18 SUN          7   Trust the Van (Jaime, Ricardo)               121 Lb       7 7       6          4         4         4         3          7.10 4-5w,no match,got show\n\n   25Nov18 ZIA          6   Tucker D (Gonzalez, Santiago)                121 L        6 9       9          9         7         7         4          7.30 tight brk, 6w into str\n\n   18Dec18 ZIA          3   Navarone Santasong (Amparan, Francisco)      121 Lb       3 5       5          6         6         6         5         16.60 held up btw, evenly\n\n   18Dec18 ZIA          2   Popatoppro (Sigala, Alfredo)                 124 Lb       2 2       1          1         3         3         6         11.70 pace, faltered\n\n   12Sep18 ALB          9   GoChampGo(Chavez,Casey)                      117 Lbf      9 8       8          8         8         8         7          8.30 failed to menace\n\n   8Jan19 SUN           1   Wild Hurricane (Reyes, Frank)                121 Lb       1 1       4          5         5         5         8          3.80 inside, empty\n\n"
    },
    {
     "output_type": "error",
     "ename": "IndexError",
     "evalue": "list index out of range",
     "traceback": [
      "\u001b[0;31m---------------------------------------------------------------------------\u001b[0m",
      "\u001b[0;31mIndexError\u001b[0m                                Traceback (most recent call last)",
      "\u001b[0;32m<ipython-input-3-c2cd580b2f56>\u001b[0m in \u001b[0;36m<module>\u001b[0;34m\u001b[0m\n\u001b[0;32m----> 1\u001b[0;31m \u001b[0mtest\u001b[0m \u001b[0;34m=\u001b[0m \u001b[0mconvertTxtToDFFns\u001b[0m\u001b[0;34m.\u001b[0m\u001b[0mparseFullDay\u001b[0m\u001b[0;34m(\u001b[0m\u001b[0mex4\u001b[0m\u001b[0;34m)\u001b[0m\u001b[0;34m\u001b[0m\u001b[0;34m\u001b[0m\u001b[0m\n\u001b[0m",
      "\u001b[0;32m~/programming/projects/horseData/python/convertTxtToDFFns.py\u001b[0m in \u001b[0;36mparseFullDay\u001b[0;34m(fullChart)\u001b[0m\n\u001b[1;32m     29\u001b[0m     \u001b[0;32mfor\u001b[0m \u001b[0mi\u001b[0m \u001b[0;32min\u001b[0m \u001b[0mrange\u001b[0m\u001b[0;34m(\u001b[0m\u001b[0mlen\u001b[0m\u001b[0;34m(\u001b[0m\u001b[0mnewRaceInd\u001b[0m\u001b[0;34m)\u001b[0m \u001b[0;34m-\u001b[0m \u001b[0;36m1\u001b[0m\u001b[0;34m)\u001b[0m\u001b[0;34m:\u001b[0m\u001b[0;34m\u001b[0m\u001b[0;34m\u001b[0m\u001b[0m\n\u001b[1;32m     30\u001b[0m \u001b[0;34m\u001b[0m\u001b[0m\n\u001b[0;32m---> 31\u001b[0;31m         \u001b[0mraceDF\u001b[0m \u001b[0;34m=\u001b[0m \u001b[0mparseRace\u001b[0m\u001b[0;34m(\u001b[0m\u001b[0mfullChart\u001b[0m\u001b[0;34m[\u001b[0m\u001b[0mnewRaceInd\u001b[0m\u001b[0;34m[\u001b[0m\u001b[0mi\u001b[0m\u001b[0;34m]\u001b[0m\u001b[0;34m:\u001b[0m\u001b[0;34m(\u001b[0m\u001b[0mmin\u001b[0m\u001b[0;34m(\u001b[0m\u001b[0mnewRaceInd\u001b[0m\u001b[0;34m[\u001b[0m\u001b[0mi\u001b[0m\u001b[0;34m+\u001b[0m\u001b[0;36m1\u001b[0m\u001b[0;34m]\u001b[0m\u001b[0;34m,\u001b[0m \u001b[0mlen\u001b[0m\u001b[0;34m(\u001b[0m\u001b[0mfullChart\u001b[0m\u001b[0;34m)\u001b[0m\u001b[0;34m)\u001b[0m\u001b[0;34m)\u001b[0m\u001b[0;34m]\u001b[0m\u001b[0;34m)\u001b[0m\u001b[0;34m\u001b[0m\u001b[0;34m\u001b[0m\u001b[0m\n\u001b[0m\u001b[1;32m     32\u001b[0m         \u001b[0;32mif\u001b[0m \u001b[0mtype\u001b[0m\u001b[0;34m(\u001b[0m\u001b[0mraceDF\u001b[0m\u001b[0;34m)\u001b[0m \u001b[0;34m==\u001b[0m \u001b[0mstr\u001b[0m\u001b[0;34m:\u001b[0m\u001b[0;34m\u001b[0m\u001b[0;34m\u001b[0m\u001b[0m\n\u001b[1;32m     33\u001b[0m             \u001b[0;32mcontinue\u001b[0m\u001b[0;34m\u001b[0m\u001b[0;34m\u001b[0m\u001b[0m\n",
      "\u001b[0;32m~/programming/projects/horseData/python/convertTxtToDFFns.py\u001b[0m in \u001b[0;36mparseRace\u001b[0;34m(raceChart)\u001b[0m\n\u001b[1;32m     62\u001b[0m         \u001b[0;32mreturn\u001b[0m \u001b[0;34m'Error - Quarter Horse'\u001b[0m\u001b[0;34m\u001b[0m\u001b[0;34m\u001b[0m\u001b[0m\n\u001b[1;32m     63\u001b[0m     \"\"\"\n\u001b[0;32m---> 64\u001b[0;31m     \u001b[0mhorseItems\u001b[0m \u001b[0;34m=\u001b[0m \u001b[0mparseHorseInfo\u001b[0m\u001b[0;34m(\u001b[0m\u001b[0mraceChart\u001b[0m\u001b[0;34m[\u001b[0m\u001b[0mhorseInd\u001b[0m\u001b[0;34m[\u001b[0m\u001b[0;36m0\u001b[0m\u001b[0;34m]\u001b[0m\u001b[0;34m:\u001b[0m\u001b[0mhorseInd\u001b[0m\u001b[0;34m[\u001b[0m\u001b[0;36m1\u001b[0m\u001b[0;34m]\u001b[0m\u001b[0;34m]\u001b[0m\u001b[0;34m)\u001b[0m\u001b[0;34m\u001b[0m\u001b[0;34m\u001b[0m\u001b[0m\n\u001b[0m\u001b[1;32m     65\u001b[0m     \u001b[0;31m#endItems = parseEndInfo(raceChart[endInd:])\u001b[0m\u001b[0;34m\u001b[0m\u001b[0;34m\u001b[0m\u001b[0;34m\u001b[0m\u001b[0m\n\u001b[1;32m     66\u001b[0m \u001b[0;34m\u001b[0m\u001b[0m\n",
      "\u001b[0;31mIndexError\u001b[0m: list index out of range"
     ]
    }
   ],
   "source": [
    "test = convertTxtToDFFns.parseFullDay(ex4)"
   ]
  },
  {
   "cell_type": "code",
   "execution_count": 4,
   "metadata": {},
   "outputs": [
    {
     "output_type": "execute_result",
     "data": {
      "text/plain": "'»'"
     },
     "metadata": {},
     "execution_count": 4
    }
   ],
   "source": [
    "'»'"
   ]
  },
  {
   "cell_type": "code",
   "execution_count": null,
   "metadata": {},
   "outputs": [],
   "source": [
    "\"\"\"\n",
    "need to account for parser not picking up length line in horse lines\n",
    "don't worry about fractional time error in quarter horses - won't get run\n",
    "\n",
    "need to create parsers for:\n",
    "    betting stats\n",
    "    running line stats\n",
    "    trainers/owners\n",
    "    dunzo\n",
    "\"\"\""
   ]
  },
  {
   "cell_type": "code",
   "execution_count": 7,
   "metadata": {},
   "outputs": [],
   "source": [
    "#line = 'LOSALAMIT?OS-January4,2019-Race1' #first\n",
    "#line = 'MAIDENCLAIMING-Thoroughbred' #second\n",
    "#line = 'Four And One Half Furlongs On The Dirt Track Record: (Valiant Pete - 49.20 - August 11, 1990)' #fifth\n",
    "#line = 'Copyright 2020 Equibase Company LLC. All Rights Reserved.' #race flag\n",
    "#line = '    Weather:   Clear Track:Fast' #ninth\n",
    "#line = '    Off at: 7:02 Start: Good for all' #tenth\n",
    "#line = '   Last Raced       Pgm HorseName(Jockey)                        WgtM/E PP 1/4        1/2       1m       11/4     Str      Fin     Odds Comments' #belmont\n",
    "#line = '    Last Raced            Pgm HorseName(Jockey)                                      Wgt M/E PP Start             1/4         Str         Fin       Odds Comments' #reg\n",
    "\n",
    "line = '15Dec18 MVR       3   Dorthysfunnygirl (Leon, Sonny)         126 Lb      3 7      5        4         4        2        1       13.80 rail bid drew clear'"
   ]
  },
  {
   "cell_type": "code",
   "execution_count": 54,
   "metadata": {},
   "outputs": [],
   "source": [
    "fullSearch = re.search(r'''(\\d?\\d[A-Z][a-z]{2}\\d\\d) *([A-Z]*) *(\\d?\\d) *([^0-9]+)(\\d?\\d?\\d) *([A-Za-z]*) *(\\d?\\d) +(\\d?\\d) +(\\d?\\d) +(\\d?\\d) +(\\d?\\d) +(\\d?\\d) +(\\d?\\d) +([0-9]+\\.\\d\\d) *(.*)$''', line)"
   ]
  },
  {
   "cell_type": "code",
   "execution_count": 55,
   "metadata": {},
   "outputs": [],
   "source": [
    "lastRaceDate = fullSearch.group(1)\n",
    "lastRaceTrack = fullSearch.group(2)\n",
    "program = fullSearch.group(3)\n",
    "horseAndJockey = fullSearch.group(4)\n",
    "weight = fullSearch.group(5)\n",
    "m_e = fullSearch.group(6)\n",
    "pp = fullSearch.group(7)\n",
    "seg1 = fullSearch.group(8)\n",
    "seg2 = fullSearch.group(9)\n",
    "seg3 = fullSearch.group(10)\n",
    "seg4 = fullSearch.group(11)\n",
    "seg5 = fullSearch.group(12)\n",
    "segFin = fullSearch.group(13)\n",
    "odds = fullSearch.group(14)\n",
    "comments = fullSearch.group(15)\n",
    "\n",
    "horseAndJockeySearch = re.search(r'([^0-9]*) *\\(([A-Za-z]*, *[A-Za-z]*)\\) *$', horseAndJockey)\n",
    "horseName = re.sub(' ', '', horseAndJockeySearch.group(1))\n",
    "jockey = horseAndJockeySearch.group(2)"
   ]
  },
  {
   "cell_type": "code",
   "execution_count": 82,
   "metadata": {},
   "outputs": [],
   "source": [
    "jack = 'Dorthys(funny) girl(Leon, Sonny)         '"
   ]
  },
  {
   "cell_type": "code",
   "execution_count": 86,
   "metadata": {},
   "outputs": [],
   "source": [
    "horseAndJockeySearch = re.search(r'([^0-9]*) *\\(([A-Za-z]*, *[A-Za-z]*)\\) *$', horseAndJockey)\n",
    "horseName = re.sub(' ', '', horseAndJockeySearch.group(1))\n",
    "jockey = horseAndJockeySearch.group(2)"
   ]
  },
  {
   "cell_type": "code",
   "execution_count": 87,
   "metadata": {},
   "outputs": [
    {
     "output_type": "execute_result",
     "data": {
      "text/plain": "'Leon, Sonny'"
     },
     "metadata": {},
     "execution_count": 87
    }
   ],
   "source": [
    "jockey"
   ]
  }
 ]
}