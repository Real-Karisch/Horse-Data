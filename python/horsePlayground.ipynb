{
 "metadata": {
  "language_info": {
   "codemirror_mode": {
    "name": "ipython",
    "version": 3
   },
   "file_extension": ".py",
   "mimetype": "text/x-python",
   "name": "python",
   "nbconvert_exporter": "python",
   "pygments_lexer": "ipython3",
   "version": "3.7.6-final"
  },
  "orig_nbformat": 2,
  "kernelspec": {
   "name": "python_defaultSpec_1597781481211",
   "display_name": "Python 3.7.6 64-bit ('base': conda)"
  }
 },
 "nbformat": 4,
 "nbformat_minor": 2,
 "cells": [
  {
   "cell_type": "code",
   "execution_count": null,
   "metadata": {
    "tags": []
   },
   "outputs": [],
   "source": [
    "import re\n",
    "import pandas as pd\n",
<<<<<<< HEAD
    "import os\n",
    "import time\n",
    "from bs4 import BeautifulSoup\n",
    "from pdf2xml import pdf2xml\n",
    "from horseInfoFns import parseHorseInfo\n",
    "from genInfoFns import parseGenInfo\n",
    "#from horsePlayground import parseFullDay, parseRace\n",
    "from timesInfoFns import parseTimeInfo"
=======
    "\n",
    "from horsePlayground import parseFullDay\n",
    "from horseInfoFns import parseHorseInfo\n",
    "from genInfoFns import parseGenInfo\n",
    "from timesInfoFns import parseTimeInfo\n",
<<<<<<< HEAD
    "from betInfoFns import parseBetInfo"
>>>>>>> 47120050558c48699b29b9e7c1f73aa4528b111b
=======
    "from betInfoFns import parseBetInfo\n",
    "from runlineInfoFns import parseRunlineInfo"
>>>>>>> 41eb1e9a27307b59a580b60970c6bc4ab05a4b5f
   ]
  },
  {
   "cell_type": "code",
   "execution_count": null,
   "metadata": {},
   "outputs": [],
   "source": [
    "with open('./../charts/chartsTxt/eqbPDFChartPlus - 2020-08-11T010651.112.txt') as file:\n",
    "    test1 = file.readlines()\n",
    "with open('./../charts/chartsTxt/eqbPDFChartPlus - 2020-08-11T010651.148.txt') as file:\n",
    "    test2 = file.readlines()"
   ]
  },
  {
   "cell_type": "code",
<<<<<<< HEAD
<<<<<<< HEAD
   "execution_count": 5,
   "metadata": {},
   "outputs": [],
   "source": [
    "line = ' 4 Spectacular Storm 3.60 2.20 2.10 $1.00 Exacta 4-1 4.70 18,712'"
=======
   "execution_count": 3,
=======
   "execution_count": null,
>>>>>>> 41eb1e9a27307b59a580b60970c6bc4ab05a4b5f
   "metadata": {
    "tags": []
   },
   "outputs": [],
   "source": [
    "jack = parseFullDay(test2)"
   ]
  },
  {
   "cell_type": "code",
   "execution_count": 11,
   "metadata": {},
   "outputs": [],
   "source": [
    "def parseTrainerLine(line):\n",
    "    fullSearch = re.search(r'^ Trainers: (\\d?\\d - [^;]+ )+', line)\n",
    "    numGroups = len(fullSearch.groups())\n",
    "\n",
    "    pgm = []\n",
    "    name = []\n",
    "\n",
    "    for i in range(1, 1+numGroups):\n",
    "        shortSearch = re.search(r'(\\d?\\d) - (.+) $', fullSearch(i))\n",
    "\n",
    "        pgm.append(shortSearch.group(1))\n",
    "        name.append(shortSearch.group(2))\n",
    "\n",
    "    return [pgm, name]"
   ]
  },
  {
   "cell_type": "code",
   "execution_count": 12,
   "metadata": {},
   "outputs": [],
   "source": [
    "line = \" Trainers: 6 - Sherlock, Gary; 5 - O'Dell, Christopher; 3 - Gomez, Ruben; 1 - Stortz, Marcia; 4 - Gonzalez, Felix; 2 - Mendoza, Jesus\""
   ]
  },
  {
   "cell_type": "code",
   "execution_count": 13,
   "metadata": {},
   "outputs": [
    {
     "output_type": "error",
     "ename": "AttributeError",
     "evalue": "'tuple' object has no attribute 'groups'",
     "traceback": [
      "\u001b[0;31m---------------------------------------------------------------------------\u001b[0m",
      "\u001b[0;31mAttributeError\u001b[0m                            Traceback (most recent call last)",
      "\u001b[0;32m<ipython-input-13-bdbef1ae8bc4>\u001b[0m in \u001b[0;36m<module>\u001b[0;34m\u001b[0m\n\u001b[0;32m----> 1\u001b[0;31m \u001b[0mparseTrainerLine\u001b[0m\u001b[0;34m(\u001b[0m\u001b[0mline\u001b[0m\u001b[0;34m)\u001b[0m\u001b[0;34m\u001b[0m\u001b[0;34m\u001b[0m\u001b[0m\n\u001b[0m",
      "\u001b[0;32m<ipython-input-11-a85c565609fd>\u001b[0m in \u001b[0;36mparseTrainerLine\u001b[0;34m(line)\u001b[0m\n\u001b[1;32m      1\u001b[0m \u001b[0;32mdef\u001b[0m \u001b[0mparseTrainerLine\u001b[0m\u001b[0;34m(\u001b[0m\u001b[0mline\u001b[0m\u001b[0;34m)\u001b[0m\u001b[0;34m:\u001b[0m\u001b[0;34m\u001b[0m\u001b[0;34m\u001b[0m\u001b[0m\n\u001b[1;32m      2\u001b[0m     \u001b[0mfullSearch\u001b[0m \u001b[0;34m=\u001b[0m \u001b[0;34m(\u001b[0m\u001b[0;34mr'^ Trainers: (\\d?\\d - [^;]+ )+'\u001b[0m\u001b[0;34m,\u001b[0m \u001b[0mline\u001b[0m\u001b[0;34m)\u001b[0m\u001b[0;34m\u001b[0m\u001b[0;34m\u001b[0m\u001b[0m\n\u001b[0;32m----> 3\u001b[0;31m     \u001b[0mnumGroups\u001b[0m \u001b[0;34m=\u001b[0m \u001b[0mlen\u001b[0m\u001b[0;34m(\u001b[0m\u001b[0mfullSearch\u001b[0m\u001b[0;34m.\u001b[0m\u001b[0mgroups\u001b[0m\u001b[0;34m(\u001b[0m\u001b[0;34m)\u001b[0m\u001b[0;34m)\u001b[0m\u001b[0;34m\u001b[0m\u001b[0;34m\u001b[0m\u001b[0m\n\u001b[0m\u001b[1;32m      4\u001b[0m \u001b[0;34m\u001b[0m\u001b[0m\n\u001b[1;32m      5\u001b[0m     \u001b[0mpgm\u001b[0m \u001b[0;34m=\u001b[0m \u001b[0;34m[\u001b[0m\u001b[0;34m]\u001b[0m\u001b[0;34m\u001b[0m\u001b[0;34m\u001b[0m\u001b[0m\n",
      "\u001b[0;31mAttributeError\u001b[0m: 'tuple' object has no attribute 'groups'"
     ]
    }
   ],
   "source": [
<<<<<<< HEAD
    "jack = parseFullDay(test1)"
>>>>>>> 47120050558c48699b29b9e7c1f73aa4528b111b
   ]
  },
  {
   "cell_type": "code",
<<<<<<< HEAD
   "execution_count": 29,
   "metadata": {},
   "outputs": [],
   "source": [
    "def parseFirstPlace(line):\n",
    "    fullSearch = re.search(r'\\d?\\d .+ (\\d+\\.\\d\\d) (\\d+\\.\\d\\d) (\\d+\\.\\d\\d) ([$0-9. A-Za-z]+) ([0-9-]+) (\\d+\\.\\d\\d) ([0-9,]+)', line)\n",
    "\n",
    "    out = []\n",
    "\n",
    "    for i in range(1,8):\n",
    "        out.append(fullSearch.group(i))\n",
    "\n",
    "    return out\n",
    "    "
   ]
  },
  {
   "cell_type": "code",
   "execution_count": 30,
   "metadata": {
    "tags": []
   },
   "outputs": [
    {
     "output_type": "execute_result",
     "data": {
      "text/plain": "['3.60', '2.20', '2.10', '$1.00 Exacta', '4-1', '4.70', '18,712']"
     },
     "metadata": {},
     "execution_count": 30
    }
   ],
   "source": [
    "parseFirstPlace(line)"
   ]
  },
  {
   "cell_type": "code",
   "execution_count": null,
   "metadata": {},
   "outputs": [],
=======
   "execution_count": null,
   "metadata": {},
   "outputs": [],
>>>>>>> 47120050558c48699b29b9e7c1f73aa4528b111b
   "source": []
=======
    "parseTrainerLine(line)"
   ]
>>>>>>> 41eb1e9a27307b59a580b60970c6bc4ab05a4b5f
  }
 ]
}