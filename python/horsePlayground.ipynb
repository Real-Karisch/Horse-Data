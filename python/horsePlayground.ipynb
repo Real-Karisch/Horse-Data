{
 "metadata": {
  "language_info": {
   "codemirror_mode": {
    "name": "ipython",
    "version": 3
   },
   "file_extension": ".py",
   "mimetype": "text/x-python",
   "name": "python",
   "nbconvert_exporter": "python",
   "pygments_lexer": "ipython3",
   "version": "3.7.6-final"
  },
  "orig_nbformat": 2,
  "kernelspec": {
   "name": "python_defaultSpec_1598560875207",
   "display_name": "Python 3.7.6 64-bit ('base': conda)"
  }
 },
 "nbformat": 4,
 "nbformat_minor": 2,
 "cells": [
  {
   "cell_type": "code",
   "execution_count": 10,
   "metadata": {
    "tags": []
   },
   "outputs": [],
   "source": [
    "import re\n",
    "import pandas as pd\n",
    "import os\n",
    "import time\n",
    "from bs4 import BeautifulSoup\n",
    "#from convertTxtToDFFns import parseFullDay\n",
    "import horseInfoFns\n",
    "from genInfoFns import parseGenInfo"
   ]
  },
  {
   "cell_type": "code",
   "execution_count": 280,
   "metadata": {},
   "outputs": [],
   "source": [
    "with open('./../charts/chartsTxt/eqbPDFChartPlus - 2020-08-11T010651.112.txt') as file:\n",
    "    test1 = file.readlines()\n",
    "with open('./../charts/chartsTxt/eqbPDFChartPlus - 2020-08-11T010651.148.txt') as file:\n",
    "    test2 = file.readlines()"
   ]
  },
  {
   "cell_type": "code",
   "execution_count": 279,
   "metadata": {
    "tags": []
   },
   "outputs": [
    {
     "output_type": "stream",
     "name": "stdout",
     "text": "15Dec18 LRC 4 Spectacular Storm (Vergara, Jr., Octavio) 123 L b 3 5 5 3 1 0.80* svd ground, rail rally\n\n 2 6 21/2 11/2\n\n 7Dec18 LRC 1 Six Eighteen (Payeras, Edgar) 120 L bf 1 4 1 1 2 1.90 inside, clear, caught\n\n 5 7 1/2 1 11/2\n\n 7Dec18 LA 3 Charming Weekend (De La Torre, Julio) 124 - - 2 1 2 2 3 10.20 pressed outside,weaknd\n\n 1 4 2 11/2 4\n\n 7Dec18 LA 5 Empress Songbird (Bednar, Vinnie) 123 L b 4 3 3 4 4 4.40 stalked, no response\n\n 1 3 1 2 3/4\n\n 23Nov18 LA 6 Coach House Girl (Garcia, Erick) 123 L b 5 2 4 5 5 16.80 off rail, no factor\n\n 1 3 2\n\n 30Nov18 LA 5 The Tattoo Kid (Payeras, Edgar) 123 L b 5 1 1 1 1 2.80 set pace, held on\n\n 1 1 2 2 Head\n\n 7Dec18 LA 2 Hes Knot Unusual (Orozco, Edgar) 123 L b 2 3 2 2 2 0.50* angled 3w,rally,missed\n\n 2 2 1/2 2 21/4\n\n 7Dec18 LA 4 Lancasterinvision (Franco, Cesar) 124» L f 4 4 6 5 3 29.50 svd ground, mild rally\n\n 2 4 3 1/2\n\n 16Dec18 LA 3 On the Fence (Aragon, Christian) 123 L 3 5 4 4 4 6.20 3wide, no rally\n\n 5 4 2 1 31/2\n\n 7Dec18 LA 6 Fandarel Dancer (Bednar, Vinnie) 123 L b 6 2 5 6 5 8.30 3wide, weakened\n\n 2 5 21/2 13/4\n\n 16Dec18 LA 1 Shadow of War (Orduna-Rojas, Francisco) 116½ L bf 1 6 3 3 6 23.40 chased inside,weakened\n\n 5 5 11/2 1/2\n\n 29Dec18 SA 6 Jellybeankristine (Payeras, Edgar) 126 L b 6 1 1 1 1 0.30* 4deep, powered away\n\n 3 8 1/2 2 6\n\n 1Dec18 LA 5 Valedictoriette (Franco, Cesar) 118» L b 5 2 3 2 2 2.70 3deep, 2-3wd, held 2nd\n\n 1 3 1/2 11/2 11/2\n\n 15Dec18 LA 3 DQ-Derby Tango (Arana, Minor) 123 L b 3 3 2 3 3 9.00 bumped foe into turn\n\n 1 4 Head 3 13/4\n\n 7Dec18 LRC 1 Loonar Secrets (Garcia, Erick) 120 L f 1 6 6 6 4 20.50 off slow,lug out early\n\n 5 8 11/4\n\n --- 4 Chiripa (De La Torre, Julio) 124 L 4 5 5 5 5 21.80 off slow,3wide,weaknd\n\n 2 11/2 11/4\n\n 15Dec18 LA 2 Proud Dream (Orduna-Rojas, Francisco) 116½ L 2 4 4 4 6 36.20 bumped,checkd into trn\n\n 1 6 2 Head\n\n 24Nov18 LA 6 Our Nation (Orduna-Rojas, Francisco) 114½ L b 4 1 1 1 1 1.30* drftd into str,drw awy\n\n 3 3 2 11/2 23/4\n\n 17Feb18 LA 3 Who's Hot (Payeras, Edgar) 120 L bf 2 2 2 2 2 1.80 inside, held 2nd\n\n 3 1 Head 1/2 Nose\n\n 2Dec18 LA 4 Lion's Luck (Bednar, Vinnie) 123 L b 3 3 3 3 3 1.70 3-4wide, missed 2nd\n\n 1 1 5 3 4\n\n 16Dec18 LA 2 Senor Pegasus (Arana, Minor) 123 L bf 1 4 4 4 4 14.00 inside, no factor\n\n 2 4\n\n"
    },
    {
     "output_type": "error",
     "ename": "TypeError",
     "evalue": "cannot concatenate object of type '<class 'int'>'; only Series and DataFrame objs are valid",
     "traceback": [
      "\u001b[0;31m---------------------------------------------------------------------------\u001b[0m",
      "\u001b[0;31mTypeError\u001b[0m                                 Traceback (most recent call last)",
      "\u001b[0;32m<ipython-input-279-620cd311e985>\u001b[0m in \u001b[0;36m<module>\u001b[0;34m\u001b[0m\n\u001b[0;32m----> 1\u001b[0;31m \u001b[0mparseFullDay\u001b[0m\u001b[0;34m(\u001b[0m\u001b[0mtest1\u001b[0m\u001b[0;34m)\u001b[0m\u001b[0;34m\u001b[0m\u001b[0;34m\u001b[0m\u001b[0m\n\u001b[0m",
      "\u001b[0;32m<ipython-input-11-3cdf3c42d7f1>\u001b[0m in \u001b[0;36mparseFullDay\u001b[0;34m(fullChart)\u001b[0m\n\u001b[1;32m     10\u001b[0m     \u001b[0;32mfor\u001b[0m \u001b[0mi\u001b[0m \u001b[0;32min\u001b[0m \u001b[0mrange\u001b[0m\u001b[0;34m(\u001b[0m\u001b[0mlen\u001b[0m\u001b[0;34m(\u001b[0m\u001b[0mnewRaceInd\u001b[0m\u001b[0;34m)\u001b[0m \u001b[0;34m-\u001b[0m \u001b[0;36m1\u001b[0m\u001b[0;34m)\u001b[0m\u001b[0;34m:\u001b[0m\u001b[0;34m\u001b[0m\u001b[0;34m\u001b[0m\u001b[0m\n\u001b[1;32m     11\u001b[0m \u001b[0;34m\u001b[0m\u001b[0m\n\u001b[0;32m---> 12\u001b[0;31m         \u001b[0mdayDF\u001b[0m \u001b[0;34m=\u001b[0m \u001b[0mpd\u001b[0m\u001b[0;34m.\u001b[0m\u001b[0mconcat\u001b[0m\u001b[0;34m(\u001b[0m\u001b[0;34m[\u001b[0m\u001b[0mdayDF\u001b[0m\u001b[0;34m,\u001b[0m \u001b[0mparseRace\u001b[0m\u001b[0;34m(\u001b[0m\u001b[0mfullChart\u001b[0m\u001b[0;34m[\u001b[0m\u001b[0mnewRaceInd\u001b[0m\u001b[0;34m[\u001b[0m\u001b[0mi\u001b[0m\u001b[0;34m]\u001b[0m \u001b[0;34m+\u001b[0m \u001b[0;36m1\u001b[0m\u001b[0;34m:\u001b[0m\u001b[0mnewRaceInd\u001b[0m\u001b[0;34m[\u001b[0m\u001b[0mi\u001b[0m \u001b[0;34m+\u001b[0m \u001b[0;36m1\u001b[0m\u001b[0;34m]\u001b[0m\u001b[0;34m]\u001b[0m\u001b[0;34m)\u001b[0m\u001b[0;34m]\u001b[0m\u001b[0;34m)\u001b[0m \u001b[0;31m#loop over chunks of the file, each chunk representing a full race\u001b[0m\u001b[0;34m\u001b[0m\u001b[0;34m\u001b[0m\u001b[0m\n\u001b[0m\u001b[1;32m     13\u001b[0m \u001b[0;34m\u001b[0m\u001b[0m\n\u001b[1;32m     14\u001b[0m     \u001b[0;32mreturn\u001b[0m \u001b[0mdayDF\u001b[0m\u001b[0;34m\u001b[0m\u001b[0;34m\u001b[0m\u001b[0m\n",
      "\u001b[0;32m~/anaconda3/lib/python3.7/site-packages/pandas/core/reshape/concat.py\u001b[0m in \u001b[0;36mconcat\u001b[0;34m(objs, axis, join, ignore_index, keys, levels, names, verify_integrity, sort, copy)\u001b[0m\n\u001b[1;32m    279\u001b[0m         \u001b[0mverify_integrity\u001b[0m\u001b[0;34m=\u001b[0m\u001b[0mverify_integrity\u001b[0m\u001b[0;34m,\u001b[0m\u001b[0;34m\u001b[0m\u001b[0;34m\u001b[0m\u001b[0m\n\u001b[1;32m    280\u001b[0m         \u001b[0mcopy\u001b[0m\u001b[0;34m=\u001b[0m\u001b[0mcopy\u001b[0m\u001b[0;34m,\u001b[0m\u001b[0;34m\u001b[0m\u001b[0;34m\u001b[0m\u001b[0m\n\u001b[0;32m--> 281\u001b[0;31m         \u001b[0msort\u001b[0m\u001b[0;34m=\u001b[0m\u001b[0msort\u001b[0m\u001b[0;34m,\u001b[0m\u001b[0;34m\u001b[0m\u001b[0;34m\u001b[0m\u001b[0m\n\u001b[0m\u001b[1;32m    282\u001b[0m     )\n\u001b[1;32m    283\u001b[0m \u001b[0;34m\u001b[0m\u001b[0m\n",
      "\u001b[0;32m~/anaconda3/lib/python3.7/site-packages/pandas/core/reshape/concat.py\u001b[0m in \u001b[0;36m__init__\u001b[0;34m(self, objs, axis, join, keys, levels, names, ignore_index, verify_integrity, copy, sort)\u001b[0m\n\u001b[1;32m    355\u001b[0m                     \u001b[0;34m\"only Series and DataFrame objs are valid\"\u001b[0m\u001b[0;34m.\u001b[0m\u001b[0mformat\u001b[0m\u001b[0;34m(\u001b[0m\u001b[0mtyp\u001b[0m\u001b[0;34m=\u001b[0m\u001b[0mtype\u001b[0m\u001b[0;34m(\u001b[0m\u001b[0mobj\u001b[0m\u001b[0;34m)\u001b[0m\u001b[0;34m)\u001b[0m\u001b[0;34m\u001b[0m\u001b[0;34m\u001b[0m\u001b[0m\n\u001b[1;32m    356\u001b[0m                 )\n\u001b[0;32m--> 357\u001b[0;31m                 \u001b[0;32mraise\u001b[0m \u001b[0mTypeError\u001b[0m\u001b[0;34m(\u001b[0m\u001b[0mmsg\u001b[0m\u001b[0;34m)\u001b[0m\u001b[0;34m\u001b[0m\u001b[0;34m\u001b[0m\u001b[0m\n\u001b[0m\u001b[1;32m    358\u001b[0m \u001b[0;34m\u001b[0m\u001b[0m\n\u001b[1;32m    359\u001b[0m             \u001b[0;31m# consolidate\u001b[0m\u001b[0;34m\u001b[0m\u001b[0;34m\u001b[0m\u001b[0;34m\u001b[0m\u001b[0m\n",
      "\u001b[0;31mTypeError\u001b[0m: cannot concatenate object of type '<class 'int'>'; only Series and DataFrame objs are valid"
     ]
    }
   ],
   "source": [
    "parseFullDay(test1)"
   ]
  },
  {
   "cell_type": "code",
   "execution_count": 11,
   "metadata": {},
   "outputs": [],
   "source": [
    "def parseFullDay(fullChart):\n",
    "    newRaceInd = [-1] #first index will be 0 after conversion (controls for out of index error later)\n",
    "    newRaceTest = 'Copyright 2020 Equibase Company LLC. All Rights Reserved.'\n",
    "    for i in range(len(fullChart)):\n",
    "        if re.search(newRaceTest, fullChart[i]) is not None: #check for the expression that signifies end of race\n",
    "            newRaceInd.append(i)\n",
    "\n",
    "    dayDF = pd.DataFrame(columns=['trackName','month','day','year','raceNum','distance','surface','segment1','segment2','segment3','segment4','segment5','segments'])\n",
    "\n",
    "    for i in range(len(newRaceInd) - 1):\n",
    "\n",
    "        dayDF = pd.concat([dayDF, parseRace(fullChart[newRaceInd[i] + 1:newRaceInd[i + 1]])]) #loop over chunks of the file, each chunk representing a full race\n",
    "\n",
    "    return dayDF"
   ]
  },
  {
   "cell_type": "code",
   "execution_count": 4,
   "metadata": {},
   "outputs": [],
   "source": [
    "def parseRace(raceChart):\n",
    "\n",
    "    cnt = 0\n",
    "\n",
    "    raceDF = 0 #### NEED TO FILL THIS IN\n",
    "\n",
    "    #loop to find indexes for different parse sections\n",
    "    for line in raceChart:\n",
    "        if re.search('Cancelled - ', line) is not None: #check for cancelled race first, if cancelled, return empty DF\n",
    "            return raceDF\n",
    "        elif re.search('- Quarter Horse', line) is not None: #also do not need to process quarter horses\n",
    "            return raceDF\n",
    "        elif re.search('Last Raced Pgm', line) is not None: #everything before this falls under \"general info\"\n",
    "            genInd = cnt + 1\n",
    "            horseInd = [cnt + 1]\n",
    "        elif re.search('Fractional Times:|Final Time:', line) is not None: #after general info, need to process info for each horse\n",
    "            horseInd.append(cnt)\n",
    "            timesInd = [cnt]\n",
    "        elif re.search('Run-Up: ', line) is not None: #after horses, timing and runup info\n",
    "            timesInd.append(cnt + 1)\n",
    "            betInd = [cnt + 1]\n",
    "        elif re.search('Past Performance Running Line Preview', line) is not None: #after timing, betting info and additional horse info\n",
    "            betInd.append(cnt)\n",
    "            runLineInd = [cnt]\n",
    "        elif re.search('Trainers: ', line) is not None: #finally, need to do trainers, owners and other ending info\n",
    "            runLineInd.append(cnt)\n",
    "            endInfoInd = cnt\n",
    "        cnt += 1\n",
    "    \"\"\"\n",
    "    print(raceChart[:genInd])\n",
    "    print('++++++++++++++++++++++++++++++++++++')\n",
    "    print(raceChart[horseInd[0]:horseInd[1]])\n",
    "    print('++++++++++++++++++++++++++++++++++++')\n",
    "    print(raceChart[timesInd[0]:timesInd[1]])\n",
    "    print('++++++++++++++++++++++++++++++++++++')\n",
    "    print(raceChart[betInd[0]:betInd[1]])\n",
    "    print('++++++++++++++++++++++++++++++++++++')\n",
    "    print(raceChart[runLineInd[0]:runLineInd[1]])\n",
    "    print('++++++++++++++++++++++++++++++++++++')\n",
    "    print(raceChart[endInfoInd:])\n",
    "    \"\"\"\n",
    "    \n",
    "    genItems = parseGenInfo(raceChart[:genInd])\n",
    "    horseItems = parseHorseInfo(raceChart[horseInd[0]:horseInd[1]])\n",
    "    \"\"\"\n",
    "    timesItems = parseTimingInfo(raceChart[timesInd[0]:timesInd[1]])\n",
    "    betItems = parseBetInfo(raceChart[betInd[0]:betInd[1]])\n",
    "    runLineItems = parseRunLineInfo(raceChart[runLineInd[0]:runLineInd[1]])\n",
    "    endItems = parseEndInfo(raceChart[endInfoInd:])\n",
    "    \"\"\"\n",
    "\n",
    "    return horseItems\n",
    "    #genDF = pd.DataFrame(horseItems)\n",
    "    \n",
    "    #return genDF\n",
    "\n",
    "    #make df row, append to df, and return"
   ]
  },
  {
   "cell_type": "code",
   "execution_count": 260,
   "metadata": {},
   "outputs": [],
   "source": [
    "def parseHorseInfo(horseLines):\n",
    "    numHorses = int(len(horseLines) / 2)\n",
    "\n",
    "    #set up empty df\n",
    "    horseDF = pd.DataFrame(columns = ['lastRaceDay','lastRaceMonth','lastRaceYear','lastRaceTrack','lastRaceNum','lastRacePlace','program','horse', 'Jockey','weight','m_e','placePP','placeSeg1','lengthsSeg1','placeSeg2','lengthsSeg2','placeSeg3','lengthsSeg3','placeSeg4','lengthsSeg4','placeSeg5','lengthsSeg5','placeSeg6','lengthSeg6','odds','comments'])\n",
    "\n",
    "    horseDict = {}\n",
    "\n",
    "    priorLineBottom = True\n",
    "    missingTopLineInd = []\n",
    "    for i in range(len(horseLines)): #loop to add spacing if top line missing (can only happen if horse has never been raced AND was in last place the whole race)\n",
    "        line = horseLines[i]\n",
    "        if re.search('^ (\\d?\\d[A-Z][a-z]{2}\\d\\d|---)', line) is not None and priorLineBottom: #check to see if the current line is bottom and the last line was also bottom\n",
    "            missingTopLineInd.append(i) #add index where true\n",
    "            priorLineBottom = True\n",
    "        else:\n",
    "            priorLineBottom = False\n",
    "\n",
    "    for i in range(len(missingTopLineInd)): #now need to loop over indices and insert empty spacer lines\n",
    "        horseLines.insert(missingTopLineInd[i], ' ')\n",
    "        missingTopLineInd = [x + 1 for x in missingTopLineInd] #need to increment remaining indices to account for new element\n",
    "\n",
    "    #loop over each horse in the lines provided\n",
    "    for i in [x*2 for x in list(range(numHorses))]:\n",
    "        activeHorse = horseLines[i:i+2]\n",
    "        bottomItems = parseHorseBottomLine(activeHorse[1])\n",
    "        topItems = parseHorseTopLine(activeHorse[0])\n",
    "\n",
    "        horseDict['lastRaceDay'] = bottomItems[0]\n",
    "        horseDict['lastRaceMonth'] = bottomItems[1]\n",
    "        horseDict['lastRaceYear'] = bottomItems[2]\n",
    "        horseDict['lastRaceTrack'] = bottomItems[3]\n",
    "        horseDict['lastRaceNum'] = topItems[0]\n",
    "        horseDict['lastRacePlace'] = topItems[1]\n",
    "        horseDict['program'] = bottomItems[4]\n",
    "        horseDict['horse'] = bottomItems[5]\n",
    "        horseDict['jockey'] = bottomItems[6]\n",
    "        horseDict['weight'] = bottomItems[7]\n",
    "        horseDict['m_e'] = bottomItems[8]\n",
    "        horseDict['placePP'] = bottomItems[9]\n",
    "        horseDict['placeSeg1'] = bottomItems[10]\n",
    "        horseDict['lengthsSeg1'] = topItems[2]\n",
    "        horseDict['placeSeg2'] = bottomItems[11]\n",
    "        horseDict['lengthsSeg2'] = topItems[3]\n",
    "        horseDict['placeSeg3'] = bottomItems[12]\n",
    "        horseDict['lengthsSeg3'] = topItems[4]\n",
    "        horseDict['placeSeg4'] = bottomItems[13]\n",
    "        horseDict['lengthsSeg4'] = topItems[5]\n",
    "        horseDict['placeSeg5'] = bottomItems[14]\n",
    "        horseDict['lengthsSeg5'] = topItems[6]\n",
    "        horseDict['placeSeg6'] = bottomItems[15]\n",
    "        horseDict['lengthsSeg6'] = topItems[7]\n",
    "        horseDict['odds'] = bottomItems[16]\n",
    "        horseDict['comments'] = bottomItems[17]\n",
    "\n",
    "        activeDF = pd.DataFrame(horseDict, index = [0])\n",
    "        \n",
    "        horseDF = pd.concat([horseDF, activeDF])\n",
    "\n",
    "    return horseDF\n",
    "            "
   ]
  },
  {
   "cell_type": "code",
   "execution_count": 221,
   "metadata": {},
   "outputs": [],
   "source": [
    "line = ' 15Dec18 LRC 4 Spectacular Storm (Vergara, Jr., Octavio) 123 L b 3 5 5 3 1 0.80* svd ground, rail rally'\n",
    "#line = ' 9 11 21/2 7 6 1'\n",
    "#line = ' 11'\n",
    "#line = ' --- 9 Midnight Roamer (Quinonez, Alonso) 122 L 8 10 10 10 10 10 9 94.00 off bit slow,inside'"
   ]
  },
  {
   "cell_type": "code",
   "execution_count": 220,
   "metadata": {
    "tags": []
   },
   "outputs": [],
   "source": [
    "topItems = parseHorseTopLine(line)"
   ]
  },
  {
   "cell_type": "code",
   "execution_count": 268,
   "metadata": {
    "tags": []
   },
   "outputs": [],
   "source": [
    "bottomItems = parseHorseBottomLine(line)\n",
    "\n",
    "horseDict = {}\n",
    "\n",
    "horseDict['lastRaceDay'] = bottomItems[0]\n",
    "horseDict['lastRaceMonth'] = bottomItems[1]\n",
    "horseDict['lastRaceYear'] = bottomItems[2]\n",
    "horseDict['lastRaceTrack'] = bottomItems[3]\n",
    "horseDict['lastRaceNum'] = topItems[0]\n",
    "horseDict['lastRacePlace'] = topItems[1]\n",
    "horseDict['program'] = bottomItems[4]\n",
    "horseDict['horse'] = bottomItems[5]\n",
    "horseDict['jockey'] = bottomItems[6]\n",
    "horseDict['weight'] = bottomItems[7]\n",
    "horseDict['m_e'] = bottomItems[8]\n",
    "horseDict['placePP'] = bottomItems[9]\n",
    "horseDict['placeSeg1'] = bottomItems[10]\n",
    "horseDict['lengthsSeg1'] = topItems[2]\n",
    "horseDict['placeSeg2'] = bottomItems[11]\n",
    "horseDict['lengthsSeg2'] = topItems[3]\n",
    "horseDict['placeSeg3'] = bottomItems[12]\n",
    "horseDict['lengthsSeg3'] = topItems[4]\n",
    "horseDict['placeSeg4'] = bottomItems[13]\n",
    "horseDict['lengthsSeg4'] = topItems[5]\n",
    "horseDict['placeSeg5'] = bottomItems[14]\n",
    "horseDict['lengthsSeg5'] = topItems[6]\n",
    "horseDict['placeSeg6'] = bottomItems[15]\n",
    "horseDict['lengthsSeg6'] = topItems[7]\n",
    "horseDict['odds'] = bottomItems[16]\n",
    "horseDict['comments'] = bottomItems[17]"
   ]
  },
  {
   "cell_type": "code",
   "execution_count": 269,
   "metadata": {},
   "outputs": [
    {
     "output_type": "execute_result",
     "data": {
      "text/plain": "{'lastRaceDay': '15',\n 'lastRaceMonth': 'Dec',\n 'lastRaceYear': '18',\n 'lastRaceTrack': 'LRC',\n 'lastRaceNum': '9',\n 'lastRacePlace': '11',\n 'program': '4',\n 'horse': 'Spectacular Storm',\n 'jockey': 'Vergara, Jr., Octavio',\n 'weight': '123',\n 'm_e': 'L b 3',\n 'placePP': '5',\n 'placeSeg1': '5',\n 'lengthsSeg1': '21/2',\n 'placeSeg2': '3',\n 'lengthsSeg2': '7',\n 'placeSeg3': '1',\n 'lengthsSeg3': '6',\n 'placeSeg4': '',\n 'lengthsSeg4': '1',\n 'placeSeg5': '',\n 'lengthsSeg5': '',\n 'placeSeg6': '',\n 'lengthsSeg6': '',\n 'odds': '0.80',\n 'comments': 'svd ground, rail rally'}"
     },
     "metadata": {},
     "execution_count": 269
    }
   ],
   "source": [
    "horseDict"
   ]
  },
  {
   "cell_type": "code",
   "execution_count": 225,
   "metadata": {},
   "outputs": [
    {
     "output_type": "execute_result",
     "data": {
      "text/plain": "  lastRaceDay lastRaceMonth lastRaceYear lastRaceTrack lastRaceNum  \\\n0          15           Dec           18           LRC           9   \n\n  lastRacePlace program                             horseAndJockey weight  \\\n0            11       4  Spectacular Storm (Vergara, Jr., Octavio)    123   \n\n     m_e  ... placeSeg3 lengthsSeg3 placeSeg4 lengthsSeg4 placeSeg5  \\\n0  L b 3  ...         1           6                     1             \n\n  lengthsSeg5 placeFin lengthsFin  odds                comments  \n0                                  0.80  svd ground, rail rally  \n\n[1 rows x 25 columns]",
      "text/html": "<div>\n<style scoped>\n    .dataframe tbody tr th:only-of-type {\n        vertical-align: middle;\n    }\n\n    .dataframe tbody tr th {\n        vertical-align: top;\n    }\n\n    .dataframe thead th {\n        text-align: right;\n    }\n</style>\n<table border=\"1\" class=\"dataframe\">\n  <thead>\n    <tr style=\"text-align: right;\">\n      <th></th>\n      <th>lastRaceDay</th>\n      <th>lastRaceMonth</th>\n      <th>lastRaceYear</th>\n      <th>lastRaceTrack</th>\n      <th>lastRaceNum</th>\n      <th>lastRacePlace</th>\n      <th>program</th>\n      <th>horseAndJockey</th>\n      <th>weight</th>\n      <th>m_e</th>\n      <th>...</th>\n      <th>placeSeg3</th>\n      <th>lengthsSeg3</th>\n      <th>placeSeg4</th>\n      <th>lengthsSeg4</th>\n      <th>placeSeg5</th>\n      <th>lengthsSeg5</th>\n      <th>placeFin</th>\n      <th>lengthsFin</th>\n      <th>odds</th>\n      <th>comments</th>\n    </tr>\n  </thead>\n  <tbody>\n    <tr>\n      <th>0</th>\n      <td>15</td>\n      <td>Dec</td>\n      <td>18</td>\n      <td>LRC</td>\n      <td>9</td>\n      <td>11</td>\n      <td>4</td>\n      <td>Spectacular Storm (Vergara, Jr., Octavio)</td>\n      <td>123</td>\n      <td>L b 3</td>\n      <td>...</td>\n      <td>1</td>\n      <td>6</td>\n      <td></td>\n      <td>1</td>\n      <td></td>\n      <td></td>\n      <td></td>\n      <td></td>\n      <td>0.80</td>\n      <td>svd ground, rail rally</td>\n    </tr>\n  </tbody>\n</table>\n<p>1 rows × 25 columns</p>\n</div>"
     },
     "metadata": {},
     "execution_count": 225
    }
   ],
   "source": [
    "pd.DataFrame(horseDict, index = [0])"
   ]
  },
  {
   "cell_type": "code",
   "execution_count": 277,
   "metadata": {},
   "outputs": [],
   "source": [
    "def parseHorseTopLine(line):\n",
    "    print(line)\n",
    "    fullSearch = re.search(r'^ ([0-9/A-Za-z]*) ?([0-9/A-Za-z]*) ?([0-9/A-Za-z]*) ?([0-9/A-Za-z]*) ?([0-9/A-Za-z]*) ?([0-9/A-Za-z]*) ?([0-9/A-Za-z]*) ?([0-9/A-Za-z]*)', line)\n",
    "\n",
    "    out = []\n",
    "    for i in range(1,9):\n",
    "        out.append(fullSearch.group(i))\n",
    "\n",
    "    return out"
   ]
  },
  {
   "cell_type": "code",
   "execution_count": 278,
   "metadata": {},
   "outputs": [],
   "source": [
    "def parseHorseBottomLine(line):\n",
    "    print(line)\n",
    "    fullSearch = re.search(r'^ (\\d?\\d[A-Z][a-z]{2}\\d\\d [A-Z]{2,3}|---) (\\d?\\d) ([^0-9]+) (\\d?\\d?\\d)[»½]* ([A-Za-z -]*\\d?) ([-0-9]*) ?([-0-9]*) ?([-0-9]*) ?([-0-9]*) ?([-0-9]*) ?([-0-9]*) ?([-0-9]*) ([0-9]+\\.\\d\\d)\\*? (.*)$', line)\n",
    "\n",
    "    out = []\n",
    "    dateSearch = re.search(r'(\\d?\\d)([A-Z][a-z]{2})(\\d\\d) ([A-Z]{2,3})', fullSearch.group(1))\n",
    "    if dateSearch is not None:\n",
    "        out[:4] = [dateSearch.group(1), dateSearch.group(2), dateSearch.group(3), dateSearch.group(4)]\n",
    "    else:\n",
    "        out[:4] = [''] * 4\n",
    "    \n",
    "    out.append(fullSearch.group(2))\n",
    "\n",
    "    horseAndJockey = fullSearch.group(3)\n",
    "    hjSearch = re.search(r'(.*) \\(([-A-Za-z,. ]+)\\)', horseAndJockey)\n",
    "    out.append(hjSearch.group(1))\n",
    "    out.append(hjSearch.group(2))\n",
    "\n",
    "    for i in range(4,15):\n",
    "        out.append(fullSearch.group(i))\n",
    "\n",
    "    return out"
   ]
  },
  {
   "cell_type": "code",
   "execution_count": 263,
   "metadata": {
    "tags": []
   },
   "outputs": [
    {
     "output_type": "execute_result",
     "data": {
      "text/plain": "17"
     },
     "metadata": {},
     "execution_count": 263
    }
   ],
   "source": [
    "len(parseHorseBottomLine(line))"
   ]
  },
  {
   "cell_type": "code",
   "execution_count": 170,
   "metadata": {},
   "outputs": [
    {
     "output_type": "execute_result",
     "data": {
      "text/plain": "<function Match.group>"
     },
     "metadata": {},
     "execution_count": 170
    }
   ],
   "source": [
    "jack = re.search('(penis) (mcgee)', '   penis mcgee dickling')"
   ]
  }
 ]
}