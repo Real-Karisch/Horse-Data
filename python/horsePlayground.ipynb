{
 "metadata": {
  "language_info": {
   "codemirror_mode": {
    "name": "ipython",
    "version": 3
   },
   "file_extension": ".py",
   "mimetype": "text/x-python",
   "name": "python",
   "nbconvert_exporter": "python",
   "pygments_lexer": "ipython3",
   "version": "3.7.6-final"
  },
  "orig_nbformat": 2,
  "kernelspec": {
   "name": "python_defaultSpec_1598560875207",
   "display_name": "Python 3.7.6 64-bit ('base': conda)"
  }
 },
 "nbformat": 4,
 "nbformat_minor": 2,
 "cells": [
  {
   "cell_type": "code",
   "execution_count": 1,
   "metadata": {
    "tags": []
   },
   "outputs": [],
   "source": [
    "import re\n",
    "import pandas as pd\n",
    "import os\n",
    "import time\n",
    "from bs4 import BeautifulSoup\n",
    "#from convertTxtToDFFns import parseFullDay\n",
    "from horseInfoFns import parseHorseInfo\n",
    "from genInfoFns import parseGenInfo"
   ]
  },
  {
   "cell_type": "code",
   "execution_count": 2,
   "metadata": {},
   "outputs": [],
   "source": [
    "with open('./../charts/chartsTxt/eqbPDFChartPlus - 2020-08-11T010651.112.txt') as file:\n",
    "    test1 = file.readlines()\n",
    "with open('./../charts/chartsTxt/eqbPDFChartPlus - 2020-08-11T010651.148.txt') as file:\n",
    "    test2 = file.readlines()"
   ]
  },
  {
   "cell_type": "code",
   "execution_count": 8,
   "metadata": {
    "tags": []
   },
   "outputs": [],
   "source": [
    "jack = parseFullDay(test2)\n",
    "jack.reset_index(inplace=True)"
   ]
  },
  {
   "cell_type": "code",
   "execution_count": 9,
   "metadata": {},
   "outputs": [],
   "source": [
    "jack.to_csv('penis.csv',index=False)"
   ]
  },
  {
   "cell_type": "code",
   "execution_count": 13,
   "metadata": {},
   "outputs": [
    {
     "output_type": "execute_result",
     "data": {
      "text/plain": "'Downhill turf'"
     },
     "metadata": {},
     "execution_count": 13
    }
   ],
   "source": [
    "jack.loc[0,'surface']"
   ]
  },
  {
   "cell_type": "code",
   "execution_count": 6,
   "metadata": {},
   "outputs": [],
   "source": [
    "def parseFullDay(fullChart):\n",
    "    newRaceInd = [-1] #first index will be 0 after conversion (controls for out of index error later)\n",
    "    newRaceTest = 'Copyright 2020 Equibase Company LLC. All Rights Reserved.'\n",
    "    for i in range(len(fullChart)):\n",
    "        if re.search(newRaceTest, fullChart[i]) is not None: #check for the expression that signifies end of race\n",
    "            newRaceInd.append(i)\n",
    "\n",
    "    dayDF = pd.DataFrame(columns=['trackName', 'month', 'day', 'year', 'raceNum', 'distance', 'surface',\n",
    "       'weather', 'conditions', 'startTime', 'startNote', 'segment1',\n",
    "       'segment2', 'segment3', 'segment4', 'segment5', 'segments',\n",
    "       'lastRaceDay', 'lastRaceMonth', 'lastRaceYear', 'lastRaceTrack',\n",
    "       'lastRaceNum', 'lastRacePlace', 'program', 'horse', 'jockey', 'weight',\n",
    "       'm_e', 'placePP', 'placeSeg1', 'lengthsSeg1', 'placeSeg2',\n",
    "       'lengthsSeg2', 'placeSeg3', 'lengthsSeg3', 'placeSeg4', 'lengthsSeg4',\n",
    "       'placeSeg5', 'lengthsSeg5', 'placeSeg6', 'lengthsSeg6', 'odds',\n",
    "       'comments'])\n",
    "\n",
    "    for i in range(len(newRaceInd) - 1):\n",
    "\n",
    "        raceDF = parseRace(fullChart[newRaceInd[i] + 1:newRaceInd[i + 1]])\n",
    "\n",
    "        dayDF = pd.concat([dayDF, raceDF]) #loop over chunks of the file, each chunk representing a full race\n",
    "\n",
    "    return dayDF"
   ]
  },
  {
   "cell_type": "code",
   "execution_count": 7,
   "metadata": {},
   "outputs": [],
   "source": [
    "def parseRace(raceChart):\n",
    "\n",
    "    cnt = 0\n",
    "\n",
    "    raceDF = pd.DataFrame(columns=['trackName','month','day','year','raceNum','distance','surface','segment1','segment2','segment3','segment4','segment5','segments',\n",
    "        'lastRaceDay', 'lastRaceMonth', 'lastRaceYear', 'lastRaceTrack','lastRaceNum', 'lastRacePlace', 'program', 'horse', 'jockey', 'weight','m_e', 'placePP', \n",
    "        'placeSeg1', 'lengthsSeg1', 'placeSeg2','lengthsSeg2', 'placeSeg3', 'lengthsSeg3', 'placeSeg4', 'lengthsSeg4','placeSeg5', 'lengthsSeg5', 'placeSeg6',\n",
    "        'lengthsSeg6', 'odds', 'comments'])\n",
    "\n",
    "    #loop to find indexes for different parse sections\n",
    "    for line in raceChart:\n",
    "        if re.search('Cancelled - ', line) is not None: #check for cancelled race first, if cancelled, return empty DF\n",
    "            return raceDF\n",
    "        elif re.search('- Quarter Horse', line) is not None: #also do not need to process quarter horses\n",
    "            return raceDF\n",
    "        elif re.search('Last Raced Pgm', line) is not None: #everything before this falls under \"general info\"\n",
    "            genInd = cnt + 1\n",
    "            horseInd = [cnt + 1]\n",
    "        elif re.search('Fractional Times:|Final Time:', line) is not None: #after general info, need to process info for each horse\n",
    "            horseInd.append(cnt)\n",
    "            timesInd = [cnt]\n",
    "        elif re.search('Run-Up: ', line) is not None: #after horses, timing and runup info\n",
    "            timesInd.append(cnt + 1)\n",
    "            betInd = [cnt + 1]\n",
    "        elif re.search('Past Performance Running Line Preview', line) is not None: #after timing, betting info and additional horse info\n",
    "            betInd.append(cnt)\n",
    "            runLineInd = [cnt]\n",
    "        elif re.search('Trainers: ', line) is not None: #finally, need to do trainers, owners and other ending info\n",
    "            runLineInd.append(cnt)\n",
    "            endInfoInd = cnt\n",
    "        cnt += 1\n",
    "    \"\"\"\n",
    "    print(raceChart[:genInd])\n",
    "    print('++++++++++++++++++++++++++++++++++++')\n",
    "    print(raceChart[horseInd[0]:horseInd[1]])\n",
    "    print('++++++++++++++++++++++++++++++++++++')\n",
    "    print(raceChart[timesInd[0]:timesInd[1]])\n",
    "    print('++++++++++++++++++++++++++++++++++++')\n",
    "    print(raceChart[betInd[0]:betInd[1]])\n",
    "    print('++++++++++++++++++++++++++++++++++++')\n",
    "    print(raceChart[runLineInd[0]:runLineInd[1]])\n",
    "    print('++++++++++++++++++++++++++++++++++++')\n",
    "    print(raceChart[endInfoInd:])\n",
    "    \"\"\"\n",
    "    \n",
    "    genItems = parseGenInfo(raceChart[:genInd])\n",
    "    horseItems = parseHorseInfo(raceChart[horseInd[0]:horseInd[1]])\n",
    "\n",
    "    genRepeated = pd.concat([genItems] * horseItems.shape[0])\n",
    "\n",
    "    horseItems.reset_index(drop=True, inplace=True)\n",
    "    genRepeated.reset_index(drop=True, inplace=True)\n",
    "\n",
    "    outDF = pd.concat([genRepeated, horseItems], axis = 1)\n",
    "\n",
    "    \"\"\"\n",
    "    timesItems = parseTimingInfo(raceChart[timesInd[0]:timesInd[1]])\n",
    "    betItems = parseBetInfo(raceChart[betInd[0]:betInd[1]])\n",
    "    runLineItems = parseRunLineInfo(raceChart[runLineInd[0]:runLineInd[1]])\n",
    "    endItems = parseEndInfo(raceChart[endInfoInd:])\n",
    "    \"\"\"\n",
    "\n",
    "    return outDF\n",
    "    #genDF = pd.DataFrame(horseItems)\n",
    "    \n",
    "    #return genDF\n",
    "\n",
    "    #make df row, append to df, and return"
   ]
  },
  {
   "cell_type": "code",
   "execution_count": null,
   "metadata": {},
   "outputs": [],
   "source": []
  }
 ]
}