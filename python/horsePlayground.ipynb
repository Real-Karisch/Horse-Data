{
 "metadata": {
  "language_info": {
   "codemirror_mode": {
    "name": "ipython",
    "version": 3
   },
   "file_extension": ".py",
   "mimetype": "text/x-python",
   "name": "python",
   "nbconvert_exporter": "python",
   "pygments_lexer": "ipython3",
   "version": "3.7.6-final"
  },
  "orig_nbformat": 2,
  "kernelspec": {
   "name": "python_defaultSpec_1597451338594",
   "display_name": "Python 3.7.6 64-bit ('base': conda)"
  }
 },
 "nbformat": 4,
 "nbformat_minor": 2,
 "cells": [
  {
   "cell_type": "code",
   "execution_count": 2,
   "metadata": {},
   "outputs": [],
   "source": [
    "import re\n",
    "import pandas as pd\n",
    "import os"
   ]
  },
  {
   "cell_type": "code",
   "execution_count": null,
   "metadata": {},
   "outputs": [],
   "source": [
    "with open('')\n",
    "ex1 = #import a txt file\n",
    "ex2 = #import another\n",
    "ex3 = #import another"
   ]
  },
  {
   "cell_type": "code",
   "execution_count": null,
   "metadata": {},
   "outputs": [],
   "source": [
    "\"\"\"\n",
    "need to create parsers for:\n",
    "    betting stats\n",
    "    running line stats\n",
    "    trainers/owners\n",
    "    dunzo\n",
    "\"\"\""
   ]
  },
  {
   "cell_type": "code",
   "execution_count": null,
   "metadata": {},
   "outputs": [],
   "source": [
    "def bulkTxtToDF(txtDir):\n",
    "    if txtDir[-1] != '/':\n",
    "        txtDir += '/'\n",
    "    files = os.listdir(txtDir)\n",
    "\n",
    "    for file in files:\n",
    "        address = txtDir + file\n",
    "        with open(address) as txtChart:\n",
    "            fullChart = txtChart.readlines()\n",
    "            fullDayDF = parseFullDay(fullChart)\n",
    "\n",
    "    ## append full day df to running df and return"
   ]
  },
  {
   "cell_type": "code",
   "execution_count": null,
   "metadata": {},
   "outputs": [],
   "source": [
    "def parseFullDay(fullChart):\n",
    "    newRaceInd = [0]\n",
    "    newRaceTest = re.search('Copyright 2020 Equibase Company LLC. All Rights Reserved.', line)\n",
    "    for i in range(len(fullChart)):\n",
    "        if re.search(newRaceTest, fullChart[i]) is not None:\n",
    "            newRaceInd.append(i)\n",
    "\n",
    "    for i in range(len(newRaceInd) - 1):\n",
    "        raceDF = parseRace(fullChart[newRaceInd[i]:newRaceInd[i+1]])\n",
    "\n",
    "    ## append raceDF to running df and return"
   ]
  },
  {
   "cell_type": "code",
   "execution_count": 9,
   "metadata": {},
   "outputs": [],
   "source": [
    "def parseRace(raceChart):\n",
    "\n",
    "    for line in raceChart:\n",
    "        if re.search('Off *at:', line) is not None:\n",
    "            genInd = cnt + 2\n",
    "        elif re.search('Last *Raced *Pgm', line) is not None:\n",
    "            horseInd = [cnt]\n",
    "        elif re.search('Fractional *Times:', line):\n",
    "            horseInd.append(cnt)\n",
    "            endInd = cnt\n",
    "        cnt += 1\n",
    "\n",
    "    genItems = parseGenInfo(raceChart[:genInd])\n",
    "\n",
    "    if genItems == []:\n",
    "        return []\n",
    "    horseItems = parseHorseInfo(raceChart[horseInd[0]:horseInd[1]])\n",
    "    endItems = parseEndInfo(raceChart[endInd:])\n",
    "    \n",
    "    return [genItems, horseItems, endItems]\n",
    "\n",
    "    #make df row, append to df, and return"
   ]
  },
  {
   "cell_type": "code",
   "execution_count": 8,
   "metadata": {},
   "outputs": [],
   "source": [
    "def parseGenInfo(genLines, trackRecordInd):\n",
    "    \n",
    "    trackName, month, day, year, raceNum = parseLine1(genLines[0])\n",
    "    breed = parseLine2(genLines[1])\n",
    "    if breed == 'QuarterHorse':\n",
    "        return []\n",
    "    distance, surface = parseLine5(genLines[trackRecordInd])\n",
    "    weather, conditions = parseLine9(genLines[trackRecordInd + 4])\n",
    "    startTime, startNote = parseLine10(genLines[trackRecordInd + 5])\n",
    "    segment1, segment2, segment3, segment4, segment5 = parseLine11(genLines[trackRecordInd + 6])\n",
    "\n",
    "    if segment3 == '':\n",
    "        segments = 2\n",
    "    elif segment4 == '':\n",
    "        segments = 3\n",
    "    elif segment5 == '':\n",
    "        segments = 4\n",
    "    else:\n",
    "        segments = 5\n",
    "        \n",
    "    return [trackName, month, day, year, raceNum, breed, distance, surface, weather, conditions, startTime, startNote, segment1, segment2, segment3, segment4, segment5, segments]"
   ]
  },
  {
   "cell_type": "code",
   "execution_count": null,
   "metadata": {},
   "outputs": [],
   "source": [
    "def parseLine11(line):\n",
    "    fullSearch = re.search(r'PP *([A-Za-z0-9/]+) *([A-Za-z0-9/]*) *([A-Za-z0-9/]*) *([A-Za-z0-9/]*) *([A-Za-z0-9/]*) *Fin', line)\n",
    "    segment1 = fullSearch.group(1)\n",
    "    segment2 = fullSearch.group(2)\n",
    "    segment3 = fullSearch.group(3)\n",
    "    segment4 = fullSearch.group(4)\n",
    "    segment5 = fullSearch.group(5)\n",
    "\n",
    "    return [segment1, segment2, segment3, segment4, segment5]"
   ]
  },
  {
   "cell_type": "code",
   "execution_count": null,
   "metadata": {},
   "outputs": [],
   "source": [
    "fullSearch = re.search(r'PP *([A-Za-z0-9/]+) *([A-Za-z0-9/]*) *([A-Za-z0-9/]*) *([A-Za-z0-9/]*) *([A-Za-z0-9/]*) *Fin', line)"
   ]
  },
  {
   "cell_type": "code",
   "execution_count": null,
   "metadata": {},
   "outputs": [],
   "source": [
    "segment1 = fullSearch.group(1)\n",
    "segment2 = fullSearch.group(2)\n",
    "segment3 = fullSearch.group(3)\n",
    "segment4 = fullSearch.group(4)\n",
    "segment5 = fullSearch.group(5)"
   ]
  },
  {
   "cell_type": "code",
   "execution_count": null,
   "metadata": {},
   "outputs": [],
   "source": [
    "if segment3 == '':\n",
    "    segments = 2\n",
    "elif segment4 == '':\n",
    "    segments = 3\n",
    "elif segment5 == '':\n",
    "    segments = 4\n",
    "else:\n",
    "    segments = 5\n"
   ]
  },
  {
   "cell_type": "code",
   "execution_count": null,
   "metadata": {},
   "outputs": [],
   "source": [
    "segment2"
   ]
  },
  {
   "cell_type": "code",
   "execution_count": null,
   "metadata": {},
   "outputs": [],
   "source": [
    "def parseLine1(line):\n",
    "    fullSearch = re.search(r'([^-]*)\\-([^-]*)\\-([^-]*)$', line)\n",
    "    trackNameRaw = fullSearch.group(1)\n",
    "    dateRaw = fullSearch.group(2)\n",
    "    raceNumRaw = fullSearch.group(3)\n",
    "\n",
    "    #track name -> abbreviated name\n",
    "    trackNameFull = re.sub('[^A-Za-z]', '', trackNameRaw)\n",
    "    trackName = trackLongToShort[trackNameFull]\n",
    "\n",
    "    #date\n",
    "    dateSearch = re.search(r'([A-Za-z]*)(\\d),(\\d\\d\\d\\d)', dateRaw)\n",
    "    monthRaw = dateSearch.group(1)\n",
    "    month = monthNameToNumber[monthRaw]\n",
    "    day = dateSearch.group(2)\n",
    "    year = dateSearch.group(3)\n",
    "\n",
    "    #race number\n",
    "    raceNum = re.search('\\d?\\d', raceNumRaw).group(0)\n",
    "\n",
    "    out = [trackName, int(month), int(day), int(year), int(raceNum)]\n",
    "\n",
    "    return out"
   ]
  },
  {
   "cell_type": "code",
   "execution_count": null,
   "metadata": {},
   "outputs": [],
   "source": [
    "def parseLine2(line):\n",
    "    breedRaw = re.search(r'-(.*)$', line).group(1)\n",
    "    breed = re.sub('[^A-Za-z]', '', breedRaw)\n",
    "    return breed"
   ]
  },
  {
   "cell_type": "code",
   "execution_count": null,
   "metadata": {},
   "outputs": [],
   "source": [
    "def parseLine5(line):\n",
    "    fullSearch = re.search(r'([ A-Za-z]+)(?=Track)', line).group(0)\n",
    "    fullSearch = re.sub(r'[^A-Za-z]', '', fullSearch)\n",
    "    specSearch = re.match(r'(([A-Z][a-z]*)*)(?=OnThe)OnThe([A-Z][a-z]*)', fullSearch)\n",
    "    distanceRaw, surface = [specSearch.group(1), specSearch.group(3)]\n",
    "\n",
    "    out = [distanceRaw, surface]\n",
    "\n",
    "    return out"
   ]
  },
  {
   "cell_type": "code",
   "execution_count": null,
   "metadata": {},
   "outputs": [],
   "source": [
    "def parseLine9(line):\n",
    "    fullSearch = re.search(r'Weather: *([A-Z][a-z]*) *Track: *([A-Z][a-z]*)', line)\n",
    "    weather = fullSearch.group(1)\n",
    "    conditions = fullSearch.group(2)\n",
    "\n",
    "    out = [weather, conditions]\n",
    "\n",
    "    return out"
   ]
  },
  {
   "cell_type": "code",
   "execution_count": null,
   "metadata": {},
   "outputs": [],
   "source": [
    "def parseLine10(line):\n",
    "    fullSearch = re.search(r'Off at: *(\\d?\\d:\\d\\d) *Start: *([A-Z0-9][a-z0-9 ]*)', line)\n",
    "    startTime = fullSearch.group(1)\n",
    "    startNote = fullSearch.group(2)\n",
    "\n",
    "    out = [startTime, startNote]\n",
    "\n",
    "    return out"
   ]
  },
  {
   "cell_type": "code",
   "execution_count": null,
   "metadata": {},
   "outputs": [],
   "source": [
    "#line = 'LOSALAMIT?OS-January4,2019-Race1' #first\n",
    "#line = 'MAIDENCLAIMING-Thoroughbred' #second\n",
    "#line = 'Four And One Half Furlongs On The Dirt Track Record: (Valiant Pete - 49.20 - August 11, 1990)' #fifth\n",
    "#line = 'Copyright 2020 Equibase Company LLC. All Rights Reserved.' #race flag\n",
    "#line = '    Weather:   Clear Track:Fast' #ninth\n",
    "#line = '    Off at: 7:02 Start: Good for all' #tenth\n",
    "#line = '   Last Raced       Pgm HorseName(Jockey)                        WgtM/E PP 1/4        1/2       1m       11/4     Str      Fin     Odds Comments' #belmont\n",
    "line = '    Last Raced            Pgm HorseName(Jockey)                                      Wgt M/E PP Start             1/4         Str         Fin       Odds Comments' #reg"
   ]
  },
  {
   "cell_type": "code",
   "execution_count": null,
   "metadata": {},
   "outputs": [],
   "source": [
    "trackLongToShort = {}\n",
    "trackShortToLong = {}\n",
    "tracksDF = pd.read_csv('tracks_v02.csv', delimiter=',', header=None)\n",
    "for i in range(tracksDF.shape[0]):\n",
    "    trackLongToShort[tracksDF.iloc[i,1]] = tracksDF.iloc[i,0]\n",
    "    trackShortToLong[tracksDF.iloc[i,0]] = tracksDF.iloc[i,1]"
   ]
  },
  {
   "cell_type": "code",
   "execution_count": null,
   "metadata": {},
   "outputs": [],
   "source": [
    "monthNameToNumber = {\n",
    "    'January': 1,\n",
    "    'February': 2,\n",
    "    'March': 3,\n",
    "    'April': 4,\n",
    "    'May': 5,\n",
    "    'June': 6,\n",
    "    'July': 7,\n",
    "    'August': 8,\n",
    "    'September': 9,\n",
    "    'October': 10,\n",
    "    'November': 11,\n",
    "    'December': 12\n",
    "}"
   ]
  }
 ]
}