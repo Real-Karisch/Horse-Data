{
 "metadata": {
  "language_info": {
   "codemirror_mode": {
    "name": "ipython",
    "version": 3
   },
   "file_extension": ".py",
   "mimetype": "text/x-python",
   "name": "python",
   "nbconvert_exporter": "python",
   "pygments_lexer": "ipython3",
   "version": "3.7.6-final"
  },
  "orig_nbformat": 2,
  "kernelspec": {
   "name": "python_defaultSpec_1597591499812",
   "display_name": "Python 3.7.6 64-bit ('base': conda)"
  }
 },
 "nbformat": 4,
 "nbformat_minor": 2,
 "cells": [
  {
   "cell_type": "code",
   "execution_count": 1,
   "metadata": {},
   "outputs": [],
   "source": [
    "import re\n",
    "import pandas as pd\n",
    "import os\n",
    "import convertTxtToDFFns"
   ]
  },
  {
   "cell_type": "code",
   "execution_count": 2,
   "metadata": {},
   "outputs": [],
   "source": [
    "with open('./../charts/LA-1.4.19.txt') as file:\n",
    "    ex1 = file.readlines() #import a txt file\n",
    "with open('./../charts/LP-1.13.19.txt') as file:\n",
    "    ex2 = file.readlines() #import another\n",
    "with open('./../charts/MVR-1.2.19.txt') as file:\n",
    "    ex3 = file.readlines() #import another\n",
    "with open('./../charts/SUN-1.12.19.txt') as file:\n",
    "    ex4 = file.readlines() #import another\n",
    "with open('./../charts/belmont.txt') as file:\n",
    "    belmont = file.readlines() #import another"
   ]
  },
  {
   "cell_type": "code",
   "execution_count": 3,
   "metadata": {
    "tags": []
   },
   "outputs": [],
   "source": [
    "test = convertTxtToDFFns.parseFullDay(ex4)"
   ]
  },
  {
   "cell_type": "code",
   "execution_count": 4,
   "metadata": {},
   "outputs": [
    {
     "output_type": "execute_result",
     "data": {
      "text/plain": "  trackName month day  year raceNum         breed                distance  \\\n0       SUN     1  12  2019       1  Thoroughbred  OneMileAndSeventyYards   \n0       SUN     1  12  2019       2  Thoroughbred   SixAndOneHalfFurlongs   \n0       SUN     1  12  2019       3  Thoroughbred             SixFurlongs   \n0       SUN     1  12  2019       4  Thoroughbred   SixAndOneHalfFurlongs   \n0       SUN     1  12  2019       5  Thoroughbred             SixFurlongs   \n0       SUN     1  12  2019       6  Thoroughbred             SixFurlongs   \n0       SUN     1  12  2019       7  Thoroughbred  OneMileAndSeventyYards   \n\n  surface segment1 segment2 segment3 segment4 segment5 segments  \n0    Dirt    Start      1/4      1/2      3/4      Str        5  \n0    Dirt    Start      1/4      1/2      Str                 4  \n0    Dirt    Start      1/4      1/2      Str                 4  \n0    Dirt    Start      1/4      1/2      Str                 4  \n0    Dirt    Start      1/4      1/2      Str                 4  \n0    Dirt    Start      1/4      1/2      Str                 4  \n0    Dirt    Start      1/4      1/2      3/4      Str        5  ",
      "text/html": "<div>\n<style scoped>\n    .dataframe tbody tr th:only-of-type {\n        vertical-align: middle;\n    }\n\n    .dataframe tbody tr th {\n        vertical-align: top;\n    }\n\n    .dataframe thead th {\n        text-align: right;\n    }\n</style>\n<table border=\"1\" class=\"dataframe\">\n  <thead>\n    <tr style=\"text-align: right;\">\n      <th></th>\n      <th>trackName</th>\n      <th>month</th>\n      <th>day</th>\n      <th>year</th>\n      <th>raceNum</th>\n      <th>breed</th>\n      <th>distance</th>\n      <th>surface</th>\n      <th>segment1</th>\n      <th>segment2</th>\n      <th>segment3</th>\n      <th>segment4</th>\n      <th>segment5</th>\n      <th>segments</th>\n    </tr>\n  </thead>\n  <tbody>\n    <tr>\n      <th>0</th>\n      <td>SUN</td>\n      <td>1</td>\n      <td>12</td>\n      <td>2019</td>\n      <td>1</td>\n      <td>Thoroughbred</td>\n      <td>OneMileAndSeventyYards</td>\n      <td>Dirt</td>\n      <td>Start</td>\n      <td>1/4</td>\n      <td>1/2</td>\n      <td>3/4</td>\n      <td>Str</td>\n      <td>5</td>\n    </tr>\n    <tr>\n      <th>0</th>\n      <td>SUN</td>\n      <td>1</td>\n      <td>12</td>\n      <td>2019</td>\n      <td>2</td>\n      <td>Thoroughbred</td>\n      <td>SixAndOneHalfFurlongs</td>\n      <td>Dirt</td>\n      <td>Start</td>\n      <td>1/4</td>\n      <td>1/2</td>\n      <td>Str</td>\n      <td></td>\n      <td>4</td>\n    </tr>\n    <tr>\n      <th>0</th>\n      <td>SUN</td>\n      <td>1</td>\n      <td>12</td>\n      <td>2019</td>\n      <td>3</td>\n      <td>Thoroughbred</td>\n      <td>SixFurlongs</td>\n      <td>Dirt</td>\n      <td>Start</td>\n      <td>1/4</td>\n      <td>1/2</td>\n      <td>Str</td>\n      <td></td>\n      <td>4</td>\n    </tr>\n    <tr>\n      <th>0</th>\n      <td>SUN</td>\n      <td>1</td>\n      <td>12</td>\n      <td>2019</td>\n      <td>4</td>\n      <td>Thoroughbred</td>\n      <td>SixAndOneHalfFurlongs</td>\n      <td>Dirt</td>\n      <td>Start</td>\n      <td>1/4</td>\n      <td>1/2</td>\n      <td>Str</td>\n      <td></td>\n      <td>4</td>\n    </tr>\n    <tr>\n      <th>0</th>\n      <td>SUN</td>\n      <td>1</td>\n      <td>12</td>\n      <td>2019</td>\n      <td>5</td>\n      <td>Thoroughbred</td>\n      <td>SixFurlongs</td>\n      <td>Dirt</td>\n      <td>Start</td>\n      <td>1/4</td>\n      <td>1/2</td>\n      <td>Str</td>\n      <td></td>\n      <td>4</td>\n    </tr>\n    <tr>\n      <th>0</th>\n      <td>SUN</td>\n      <td>1</td>\n      <td>12</td>\n      <td>2019</td>\n      <td>6</td>\n      <td>Thoroughbred</td>\n      <td>SixFurlongs</td>\n      <td>Dirt</td>\n      <td>Start</td>\n      <td>1/4</td>\n      <td>1/2</td>\n      <td>Str</td>\n      <td></td>\n      <td>4</td>\n    </tr>\n    <tr>\n      <th>0</th>\n      <td>SUN</td>\n      <td>1</td>\n      <td>12</td>\n      <td>2019</td>\n      <td>7</td>\n      <td>Thoroughbred</td>\n      <td>OneMileAndSeventyYards</td>\n      <td>Dirt</td>\n      <td>Start</td>\n      <td>1/4</td>\n      <td>1/2</td>\n      <td>3/4</td>\n      <td>Str</td>\n      <td>5</td>\n    </tr>\n  </tbody>\n</table>\n</div>"
     },
     "metadata": {},
     "execution_count": 4
    }
   ],
   "source": [
    "test    "
   ]
  },
  {
   "cell_type": "code",
   "execution_count": null,
   "metadata": {},
   "outputs": [],
   "source": [
    "\"\"\"\n",
    "need to create parsers for:\n",
    "    betting stats\n",
    "    running line stats\n",
    "    trainers/owners\n",
    "    dunzo\n",
    "\"\"\""
   ]
  },
  {
   "cell_type": "code",
   "execution_count": null,
   "metadata": {},
   "outputs": [],
   "source": [
    "#line = 'LOSALAMIT?OS-January4,2019-Race1' #first\n",
    "#line = 'MAIDENCLAIMING-Thoroughbred' #second\n",
    "#line = 'Four And One Half Furlongs On The Dirt Track Record: (Valiant Pete - 49.20 - August 11, 1990)' #fifth\n",
    "#line = 'Copyright 2020 Equibase Company LLC. All Rights Reserved.' #race flag\n",
    "#line = '    Weather:   Clear Track:Fast' #ninth\n",
    "#line = '    Off at: 7:02 Start: Good for all' #tenth\n",
    "#line = '   Last Raced       Pgm HorseName(Jockey)                        WgtM/E PP 1/4        1/2       1m       11/4     Str      Fin     Odds Comments' #belmont\n",
    "line = '    Last Raced            Pgm HorseName(Jockey)                                      Wgt M/E PP Start             1/4         Str         Fin       Odds Comments' #reg"
   ]
  }
 ]
}