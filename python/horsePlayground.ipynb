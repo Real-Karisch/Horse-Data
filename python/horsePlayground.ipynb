{
 "metadata": {
  "language_info": {
   "codemirror_mode": {
    "name": "ipython",
    "version": 3
   },
   "file_extension": ".py",
   "mimetype": "text/x-python",
   "name": "python",
   "nbconvert_exporter": "python",
   "pygments_lexer": "ipython3",
   "version": "3.7.6-final"
  },
  "orig_nbformat": 2,
  "kernelspec": {
   "name": "python_defaultSpec_1599072316075",
   "display_name": "Python 3.7.6 64-bit ('base': conda)"
  }
 },
 "nbformat": 4,
 "nbformat_minor": 2,
 "cells": [
  {
   "cell_type": "code",
   "execution_count": 1,
   "metadata": {
    "tags": []
   },
   "outputs": [],
   "source": [
    "import re\n",
    "import pandas as pd\n",
    "import os\n",
    "import time\n",
    "from bs4 import BeautifulSoup\n",
    "from pdf2xml import pdf2xml\n",
    "from horseInfoFns import parseHorseInfo\n",
    "from genInfoFns import parseGenInfo\n",
    "#from horsePlayground import parseFullDay, parseRace\n",
    "from timesInfoFns import parseTimeInfo"
   ]
  },
  {
   "cell_type": "code",
   "execution_count": 2,
   "metadata": {},
   "outputs": [],
   "source": [
    "with open('./../charts/chartsTxt/eqbPDFChartPlus - 2020-08-11T010651.112.txt') as file:\n",
    "    test1 = file.readlines()\n",
    "with open('./../charts/chartsTxt/eqbPDFChartPlus - 2020-08-11T010651.148.txt') as file:\n",
    "    test2 = file.readlines()"
   ]
  },
  {
   "cell_type": "code",
   "execution_count": 5,
   "metadata": {},
   "outputs": [],
   "source": [
    "line = ' 4 Spectacular Storm 3.60 2.20 2.10 $1.00 Exacta 4-1 4.70 18,712'"
   ]
  },
  {
   "cell_type": "code",
   "execution_count": 29,
   "metadata": {},
   "outputs": [],
   "source": [
    "def parseFirstPlace(line):\n",
    "    fullSearch = re.search(r'\\d?\\d .+ (\\d+\\.\\d\\d) (\\d+\\.\\d\\d) (\\d+\\.\\d\\d) ([$0-9. A-Za-z]+) ([0-9-]+) (\\d+\\.\\d\\d) ([0-9,]+)', line)\n",
    "\n",
    "    out = []\n",
    "\n",
    "    for i in range(1,8):\n",
    "        out.append(fullSearch.group(i))\n",
    "\n",
    "    return out\n",
    "    "
   ]
  },
  {
   "cell_type": "code",
   "execution_count": 30,
   "metadata": {
    "tags": []
   },
   "outputs": [
    {
     "output_type": "execute_result",
     "data": {
      "text/plain": "['3.60', '2.20', '2.10', '$1.00 Exacta', '4-1', '4.70', '18,712']"
     },
     "metadata": {},
     "execution_count": 30
    }
   ],
   "source": [
    "parseFirstPlace(line)"
   ]
  },
  {
   "cell_type": "code",
   "execution_count": null,
   "metadata": {},
   "outputs": [],
   "source": []
  }
 ]
}