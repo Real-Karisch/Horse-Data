{
 "metadata": {
  "language_info": {
   "codemirror_mode": {
    "name": "ipython",
    "version": 3
   },
   "file_extension": ".py",
   "mimetype": "text/x-python",
   "name": "python",
   "nbconvert_exporter": "python",
   "pygments_lexer": "ipython3",
   "version": "3.7.6-final"
  },
  "orig_nbformat": 2,
  "kernelspec": {
   "name": "python_defaultSpec_1598560875207",
   "display_name": "Python 3.7.6 64-bit ('base': conda)"
  }
 },
 "nbformat": 4,
 "nbformat_minor": 2,
 "cells": [
  {
   "cell_type": "code",
   "execution_count": 1,
   "metadata": {
    "tags": []
   },
   "outputs": [
    {
     "output_type": "stream",
     "name": "stdout",
     "text": "Fractional Times: 21.32 42.82 1:06.20 Final Time: 1:12.69\n\n Fractional Times: 25.07 49.17 1:14.36 1:27.78 Final Time: 1:41.92\n\n Fractional Times: 22.05 45.51 58.44 Final Time: 1:12.66\n\n Fractional Times: 24.15 48.39 1:12.78 1:24.55 Final Time: 1:36.38\n\n Fractional Times: 22.30 45.62 1:09.67 Final Time: 1:16.13\n\n Fractional Times: 23.66 47.55 1:12.32 1:24.64 Final Time: 1:37.49\n\n Fractional Times: 21.35 43.46 1:06.52 Final Time: 1:12.58\n\n Fractional Times: 22.58 45.76 57.73 Final Time: 1:10.23\n\n Fractional Times: 21.90 44.67 1:07.58 Final Time: 1:13.70\n\n"
    }
   ],
   "source": [
    "import re\n",
    "import pandas as pd\n",
    "import os\n",
    "import time\n",
    "from bs4 import BeautifulSoup\n",
    "#from convertTxtToDFFns import parseFullDay\n",
    "from horseInfoFns import parseHorseInfo\n",
    "from genInfoFns import parseGenInfo\n",
    "from horsePlayground import parseFullDay, parseRace\n",
    "from timesInfoFns import parseTimeInfo"
   ]
  },
  {
   "cell_type": "code",
   "execution_count": 2,
   "metadata": {},
   "outputs": [],
   "source": [
    "with open('./../charts/chartsTxt/eqbPDFChartPlus - 2020-08-11T010651.112.txt') as file:\n",
    "    test1 = file.readlines()\n",
    "with open('./../charts/chartsTxt/eqbPDFChartPlus - 2020-08-11T010651.148.txt') as file:\n",
    "    test2 = file.readlines()"
   ]
  },
  {
   "cell_type": "code",
   "execution_count": 3,
   "metadata": {
    "tags": []
   },
   "outputs": [
    {
     "output_type": "stream",
     "name": "stdout",
     "text": "Fractional Times: 22.09 45.87 Final Time: 52.23\n\n Final Time: 45.65\n\n Fractional Times: 22.92 46.57 Final Time: 52.51\n\n Final Time: 45.23\n\n"
    }
   ],
   "source": [
    "jack = parseFullDay(test1)"
   ]
  },
  {
   "cell_type": "code",
   "execution_count": 5,
   "metadata": {},
   "outputs": [
    {
     "output_type": "execute_result",
     "data": {
      "text/plain": "(21, 50)"
     },
     "metadata": {},
     "execution_count": 5
    }
   ],
   "source": [
    "jack.shape"
   ]
  },
  {
   "cell_type": "code",
   "execution_count": 5,
   "metadata": {},
   "outputs": [],
   "source": [
    "line = ' Run-Up: 131 feet Temporary Rail: 30 feet'"
   ]
  },
  {
   "cell_type": "code",
   "execution_count": 6,
   "metadata": {},
   "outputs": [],
   "source": [
    "def parseRunUp(line):\n",
    "    fullSearch = re.search(r'Run-Up: ([0-9.]*)', line)\n",
    "    runUp = fullSearch.group(1)\n",
    "\n",
    "    return runUp"
   ]
  },
  {
   "cell_type": "code",
   "execution_count": 7,
   "metadata": {
    "tags": []
   },
   "outputs": [
    {
     "output_type": "execute_result",
     "data": {
      "text/plain": "'131'"
     },
     "metadata": {},
     "execution_count": 7
    }
   ],
   "source": [
    "parseRunUp(line)"
   ]
  }
 ]
}